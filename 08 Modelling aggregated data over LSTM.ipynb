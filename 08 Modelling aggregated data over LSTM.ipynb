{
 "cells": [
  {
   "cell_type": "code",
   "execution_count": 1,
   "metadata": {
    "ExecuteTime": {
     "end_time": "2021-08-15T22:55:03.635883Z",
     "start_time": "2021-08-15T22:54:57.519125Z"
    }
   },
   "outputs": [
    {
     "name": "stderr",
     "output_type": "stream",
     "text": [
      "Using TensorFlow backend.\n"
     ]
    }
   ],
   "source": [
    "import warnings\n",
    "warnings.filterwarnings('ignore')\n",
    "import pandas as pd\n",
    "import pyspark as spark\n",
    "import matplotlib.pyplot as plt\n",
    "import numpy as np\n",
    "from sklearn.metrics import mean_squared_error\n",
    "sc = spark.SparkContext()\n",
    "sql = spark.SQLContext(sc)\n",
    "from pyspark.sql.types import *\n",
    "from sklearn.preprocessing import MinMaxScaler\n",
    "from keras.models import Sequential\n",
    "from keras.layers import Dense\n",
    "from keras.layers import LSTM\n",
    "from elephas.utils.rdd_utils import to_simple_rdd"
   ]
  },
  {
   "cell_type": "markdown",
   "metadata": {},
   "source": [
    "## Single Feature Sentiment Analysis"
   ]
  },
  {
   "cell_type": "code",
   "execution_count": 16,
   "metadata": {
    "ExecuteTime": {
     "end_time": "2021-08-15T22:57:05.539344Z",
     "start_time": "2021-08-15T22:57:05.481028Z"
    }
   },
   "outputs": [
    {
     "data": {
      "text/html": [
       "<div>\n",
       "<style scoped>\n",
       "    .dataframe tbody tr th:only-of-type {\n",
       "        vertical-align: middle;\n",
       "    }\n",
       "\n",
       "    .dataframe tbody tr th {\n",
       "        vertical-align: top;\n",
       "    }\n",
       "\n",
       "    .dataframe thead th {\n",
       "        text-align: right;\n",
       "    }\n",
       "</style>\n",
       "<table border=\"1\" class=\"dataframe\">\n",
       "  <thead>\n",
       "    <tr style=\"text-align: right;\">\n",
       "      <th></th>\n",
       "      <th>date</th>\n",
       "      <th>open</th>\n",
       "      <th>open_volume</th>\n",
       "      <th>close</th>\n",
       "      <th>close_volume</th>\n",
       "      <th>high</th>\n",
       "      <th>low</th>\n",
       "      <th>subjectivity_overall</th>\n",
       "      <th>polarity_overall</th>\n",
       "      <th>vader_compound_overall</th>\n",
       "      <th>...</th>\n",
       "      <th>polarity_aggregated</th>\n",
       "      <th>vader_compound_aggregated</th>\n",
       "      <th>vader_pos_aggregated</th>\n",
       "      <th>vader_neg_aggregated</th>\n",
       "      <th>vader_neu_aggregated</th>\n",
       "      <th>afinn_score_aggregated</th>\n",
       "      <th>effective_polarity_aggregated</th>\n",
       "      <th>effective_afinn_aggregated</th>\n",
       "      <th>effective_vader_aggregated</th>\n",
       "      <th>agg_sentiment_polarity_aggregated</th>\n",
       "    </tr>\n",
       "  </thead>\n",
       "  <tbody>\n",
       "    <tr>\n",
       "      <th>0</th>\n",
       "      <td>2021-02-05 10:00:00</td>\n",
       "      <td>37280.0</td>\n",
       "      <td>5.716755</td>\n",
       "      <td>37435.0</td>\n",
       "      <td>0.459237</td>\n",
       "      <td>37666.0</td>\n",
       "      <td>37219.21804</td>\n",
       "      <td>0.174242</td>\n",
       "      <td>0.131818</td>\n",
       "      <td>0.281118</td>\n",
       "      <td>...</td>\n",
       "      <td>0.131818</td>\n",
       "      <td>0.281118</td>\n",
       "      <td>0.128000</td>\n",
       "      <td>0.000000</td>\n",
       "      <td>0.872000</td>\n",
       "      <td>1.454545</td>\n",
       "      <td>0.272727</td>\n",
       "      <td>0.272727</td>\n",
       "      <td>0.545455</td>\n",
       "      <td>0.545455</td>\n",
       "    </tr>\n",
       "    <tr>\n",
       "      <th>1</th>\n",
       "      <td>2021-02-05 11:00:00</td>\n",
       "      <td>37437.0</td>\n",
       "      <td>1.474718</td>\n",
       "      <td>37729.0</td>\n",
       "      <td>0.429433</td>\n",
       "      <td>37741.0</td>\n",
       "      <td>37437.00000</td>\n",
       "      <td>0.297378</td>\n",
       "      <td>0.094089</td>\n",
       "      <td>0.132855</td>\n",
       "      <td>...</td>\n",
       "      <td>0.094089</td>\n",
       "      <td>0.132855</td>\n",
       "      <td>0.087602</td>\n",
       "      <td>0.034909</td>\n",
       "      <td>0.877455</td>\n",
       "      <td>0.556818</td>\n",
       "      <td>0.306818</td>\n",
       "      <td>0.306818</td>\n",
       "      <td>0.340909</td>\n",
       "      <td>0.397727</td>\n",
       "    </tr>\n",
       "    <tr>\n",
       "      <th>2</th>\n",
       "      <td>2021-02-05 12:00:00</td>\n",
       "      <td>37723.0</td>\n",
       "      <td>0.798632</td>\n",
       "      <td>37957.0</td>\n",
       "      <td>7.263832</td>\n",
       "      <td>38195.0</td>\n",
       "      <td>37576.00000</td>\n",
       "      <td>0.295138</td>\n",
       "      <td>0.114819</td>\n",
       "      <td>0.182863</td>\n",
       "      <td>...</td>\n",
       "      <td>0.114819</td>\n",
       "      <td>0.182863</td>\n",
       "      <td>0.098058</td>\n",
       "      <td>0.024576</td>\n",
       "      <td>0.877367</td>\n",
       "      <td>0.899281</td>\n",
       "      <td>0.323741</td>\n",
       "      <td>0.323741</td>\n",
       "      <td>0.359712</td>\n",
       "      <td>0.453237</td>\n",
       "    </tr>\n",
       "    <tr>\n",
       "      <th>3</th>\n",
       "      <td>2021-02-05 13:00:00</td>\n",
       "      <td>37939.0</td>\n",
       "      <td>2.709258</td>\n",
       "      <td>38355.0</td>\n",
       "      <td>2.241080</td>\n",
       "      <td>38366.0</td>\n",
       "      <td>37870.00000</td>\n",
       "      <td>0.299525</td>\n",
       "      <td>0.112090</td>\n",
       "      <td>0.136151</td>\n",
       "      <td>...</td>\n",
       "      <td>0.112090</td>\n",
       "      <td>0.136151</td>\n",
       "      <td>0.083718</td>\n",
       "      <td>0.024511</td>\n",
       "      <td>0.891771</td>\n",
       "      <td>0.603053</td>\n",
       "      <td>0.267176</td>\n",
       "      <td>0.267176</td>\n",
       "      <td>0.251908</td>\n",
       "      <td>0.328244</td>\n",
       "    </tr>\n",
       "    <tr>\n",
       "      <th>4</th>\n",
       "      <td>2021-02-05 14:00:00</td>\n",
       "      <td>38354.0</td>\n",
       "      <td>8.743720</td>\n",
       "      <td>38128.0</td>\n",
       "      <td>0.602789</td>\n",
       "      <td>38366.0</td>\n",
       "      <td>38022.00000</td>\n",
       "      <td>0.297600</td>\n",
       "      <td>0.124420</td>\n",
       "      <td>0.139875</td>\n",
       "      <td>...</td>\n",
       "      <td>0.124420</td>\n",
       "      <td>0.139875</td>\n",
       "      <td>0.075038</td>\n",
       "      <td>0.021925</td>\n",
       "      <td>0.903031</td>\n",
       "      <td>0.643750</td>\n",
       "      <td>0.387500</td>\n",
       "      <td>0.387500</td>\n",
       "      <td>0.306250</td>\n",
       "      <td>0.462500</td>\n",
       "    </tr>\n",
       "  </tbody>\n",
       "</table>\n",
       "<p>5 rows × 29 columns</p>\n",
       "</div>"
      ],
      "text/plain": [
       "                  date     open  open_volume    close  close_volume     high  \\\n",
       "0  2021-02-05 10:00:00  37280.0     5.716755  37435.0      0.459237  37666.0   \n",
       "1  2021-02-05 11:00:00  37437.0     1.474718  37729.0      0.429433  37741.0   \n",
       "2  2021-02-05 12:00:00  37723.0     0.798632  37957.0      7.263832  38195.0   \n",
       "3  2021-02-05 13:00:00  37939.0     2.709258  38355.0      2.241080  38366.0   \n",
       "4  2021-02-05 14:00:00  38354.0     8.743720  38128.0      0.602789  38366.0   \n",
       "\n",
       "           low  subjectivity_overall  polarity_overall  \\\n",
       "0  37219.21804              0.174242          0.131818   \n",
       "1  37437.00000              0.297378          0.094089   \n",
       "2  37576.00000              0.295138          0.114819   \n",
       "3  37870.00000              0.299525          0.112090   \n",
       "4  38022.00000              0.297600          0.124420   \n",
       "\n",
       "   vader_compound_overall  ...  polarity_aggregated  \\\n",
       "0                0.281118  ...             0.131818   \n",
       "1                0.132855  ...             0.094089   \n",
       "2                0.182863  ...             0.114819   \n",
       "3                0.136151  ...             0.112090   \n",
       "4                0.139875  ...             0.124420   \n",
       "\n",
       "   vader_compound_aggregated  vader_pos_aggregated  vader_neg_aggregated  \\\n",
       "0                   0.281118              0.128000              0.000000   \n",
       "1                   0.132855              0.087602              0.034909   \n",
       "2                   0.182863              0.098058              0.024576   \n",
       "3                   0.136151              0.083718              0.024511   \n",
       "4                   0.139875              0.075038              0.021925   \n",
       "\n",
       "   vader_neu_aggregated  afinn_score_aggregated  \\\n",
       "0              0.872000                1.454545   \n",
       "1              0.877455                0.556818   \n",
       "2              0.877367                0.899281   \n",
       "3              0.891771                0.603053   \n",
       "4              0.903031                0.643750   \n",
       "\n",
       "   effective_polarity_aggregated  effective_afinn_aggregated  \\\n",
       "0                       0.272727                    0.272727   \n",
       "1                       0.306818                    0.306818   \n",
       "2                       0.323741                    0.323741   \n",
       "3                       0.267176                    0.267176   \n",
       "4                       0.387500                    0.387500   \n",
       "\n",
       "   effective_vader_aggregated  agg_sentiment_polarity_aggregated  \n",
       "0                    0.545455                           0.545455  \n",
       "1                    0.340909                           0.397727  \n",
       "2                    0.359712                           0.453237  \n",
       "3                    0.251908                           0.328244  \n",
       "4                    0.306250                           0.462500  \n",
       "\n",
       "[5 rows x 29 columns]"
      ]
     },
     "execution_count": 16,
     "metadata": {},
     "output_type": "execute_result"
    }
   ],
   "source": [
    "df = pd.read_csv('Data/bitcoin_hourly_price_sent.csv')\n",
    "df.head()"
   ]
  },
  {
   "cell_type": "code",
   "execution_count": 17,
   "metadata": {
    "ExecuteTime": {
     "end_time": "2021-08-15T22:57:07.696168Z",
     "start_time": "2021-08-15T22:57:07.691123Z"
    }
   },
   "outputs": [],
   "source": [
    "df = df[['date','close','agg_sentiment_polarity_aggregated']]\n",
    "df.columns=['DateTime','Price','Sentiment_score']"
   ]
  },
  {
   "cell_type": "markdown",
   "metadata": {},
   "source": [
    "Plotting the input variables"
   ]
  },
  {
   "cell_type": "code",
   "execution_count": 18,
   "metadata": {
    "ExecuteTime": {
     "end_time": "2021-08-15T22:57:09.508866Z",
     "start_time": "2021-08-15T22:57:09.287397Z"
    }
   },
   "outputs": [
    {
     "data": {
      "image/png": "[encoded data removed]",
      "text/plain": [
       "<Figure size 432x288 with 2 Axes>"
      ]
     },
     "metadata": {
      "needs_background": "light"
     },
     "output_type": "display_data"
    }
   ],
   "source": [
    "values = df.values\n",
    "# specify columns to plot\n",
    "groups = [1, 2]\n",
    "i = 1\n",
    "# plot each column\n",
    "plt.figure()\n",
    "for group in groups:\n",
    "    plt.subplot(len(groups), 1, i)\n",
    "    plt.plot(values[:, group])\n",
    "    plt.title(df.columns[group], y=0.5, loc='right')\n",
    "    i += 1\n",
    "plt.show()"
   ]
  },
  {
   "cell_type": "markdown",
   "metadata": {},
   "source": [
    "Set index to datetime and change the order of columns"
   ]
  },
  {
   "cell_type": "code",
   "execution_count": 19,
   "metadata": {
    "ExecuteTime": {
     "end_time": "2021-08-15T22:57:11.301137Z",
     "start_time": "2021-08-15T22:57:11.286327Z"
    },
    "scrolled": false
   },
   "outputs": [
    {
     "data": {
      "text/html": [
       "<div>\n",
       "<style scoped>\n",
       "    .dataframe tbody tr th:only-of-type {\n",
       "        vertical-align: middle;\n",
       "    }\n",
       "\n",
       "    .dataframe tbody tr th {\n",
       "        vertical-align: top;\n",
       "    }\n",
       "\n",
       "    .dataframe thead th {\n",
       "        text-align: right;\n",
       "    }\n",
       "</style>\n",
       "<table border=\"1\" class=\"dataframe\">\n",
       "  <thead>\n",
       "    <tr style=\"text-align: right;\">\n",
       "      <th></th>\n",
       "      <th>Sentiment_score</th>\n",
       "      <th>Price</th>\n",
       "    </tr>\n",
       "    <tr>\n",
       "      <th>DateTime</th>\n",
       "      <th></th>\n",
       "      <th></th>\n",
       "    </tr>\n",
       "  </thead>\n",
       "  <tbody>\n",
       "    <tr>\n",
       "      <th>2021-02-05 10:00:00</th>\n",
       "      <td>0.545455</td>\n",
       "      <td>37435.000000</td>\n",
       "    </tr>\n",
       "    <tr>\n",
       "      <th>2021-02-05 11:00:00</th>\n",
       "      <td>0.397727</td>\n",
       "      <td>37729.000000</td>\n",
       "    </tr>\n",
       "    <tr>\n",
       "      <th>2021-02-05 12:00:00</th>\n",
       "      <td>0.453237</td>\n",
       "      <td>37957.000000</td>\n",
       "    </tr>\n",
       "    <tr>\n",
       "      <th>2021-02-05 13:00:00</th>\n",
       "      <td>0.328244</td>\n",
       "      <td>38355.000000</td>\n",
       "    </tr>\n",
       "    <tr>\n",
       "      <th>2021-02-05 14:00:00</th>\n",
       "      <td>0.462500</td>\n",
       "      <td>38128.000000</td>\n",
       "    </tr>\n",
       "    <tr>\n",
       "      <th>...</th>\n",
       "      <td>...</td>\n",
       "      <td>...</td>\n",
       "    </tr>\n",
       "    <tr>\n",
       "      <th>2021-07-10 12:00:00</th>\n",
       "      <td>0.498507</td>\n",
       "      <td>33843.000000</td>\n",
       "    </tr>\n",
       "    <tr>\n",
       "      <th>2021-07-10 13:00:00</th>\n",
       "      <td>0.496322</td>\n",
       "      <td>33670.000000</td>\n",
       "    </tr>\n",
       "    <tr>\n",
       "      <th>2021-07-10 14:00:00</th>\n",
       "      <td>0.496397</td>\n",
       "      <td>33801.000000</td>\n",
       "    </tr>\n",
       "    <tr>\n",
       "      <th>2021-07-10 15:00:00</th>\n",
       "      <td>0.496059</td>\n",
       "      <td>33853.982024</td>\n",
       "    </tr>\n",
       "    <tr>\n",
       "      <th>2021-07-10 16:00:00</th>\n",
       "      <td>0.495684</td>\n",
       "      <td>34017.516364</td>\n",
       "    </tr>\n",
       "  </tbody>\n",
       "</table>\n",
       "<p>3725 rows × 2 columns</p>\n",
       "</div>"
      ],
      "text/plain": [
       "                     Sentiment_score         Price\n",
       "DateTime                                          \n",
       "2021-02-05 10:00:00         0.545455  37435.000000\n",
       "2021-02-05 11:00:00         0.397727  37729.000000\n",
       "2021-02-05 12:00:00         0.453237  37957.000000\n",
       "2021-02-05 13:00:00         0.328244  38355.000000\n",
       "2021-02-05 14:00:00         0.462500  38128.000000\n",
       "...                              ...           ...\n",
       "2021-07-10 12:00:00         0.498507  33843.000000\n",
       "2021-07-10 13:00:00         0.496322  33670.000000\n",
       "2021-07-10 14:00:00         0.496397  33801.000000\n",
       "2021-07-10 15:00:00         0.496059  33853.982024\n",
       "2021-07-10 16:00:00         0.495684  34017.516364\n",
       "\n",
       "[3725 rows x 2 columns]"
      ]
     },
     "execution_count": 19,
     "metadata": {},
     "output_type": "execute_result"
    }
   ],
   "source": [
    "df.set_index('DateTime',inplace=True)  \n",
    "cols = df.columns.tolist()\n",
    "cols = cols[-1:] + cols[:-1]\n",
    "df = df[cols]\n",
    "df\n"
   ]
  },
  {
   "cell_type": "code",
   "execution_count": 20,
   "metadata": {
    "ExecuteTime": {
     "end_time": "2021-08-15T22:57:13.449326Z",
     "start_time": "2021-08-15T22:57:13.444605Z"
    }
   },
   "outputs": [],
   "source": [
    "scaler = MinMaxScaler(feature_range=(0, 1))\n",
    "scaled = scaler.fit_transform(df.values)"
   ]
  },
  {
   "cell_type": "code",
   "execution_count": 21,
   "metadata": {
    "ExecuteTime": {
     "end_time": "2021-08-15T22:57:16.321672Z",
     "start_time": "2021-08-15T22:57:16.311356Z"
    }
   },
   "outputs": [],
   "source": [
    "def series_to_supervised(data, n_in=1, n_out=1, dropnan=True):\n",
    "    '''\n",
    "    Converts the original dataframe to a format which contains\n",
    "    lag shifted values of inputs which can be used as input\n",
    "    to the LSTM\n",
    "    '''\n",
    "    n_vars = 1 if type(data) is list else data.shape[1]\n",
    "    df = pd.DataFrame(data)\n",
    "    cols, names = list(), list()\n",
    "    # input sequence (t-n, ... t-1)\n",
    "    for i in range(n_in, 0, -1):\n",
    "        cols.append(df.shift(i))\n",
    "        names += [('var%d(t-%d)' % (j+1, i)) for j in range(n_vars)]\n",
    "    # forecast sequence (t, t+1, ... t+n)\n",
    "    for i in range(0, n_out):\n",
    "        cols.append(df.shift(-i))\n",
    "        if i == 0:\n",
    "            names += [('var%d(t)' % (j+1)) for j in range(n_vars)]\n",
    "        else:\n",
    "            names += [('var%d(t+%d)' % (j+1, i)) for j in range(n_vars)]\n",
    "    # put it all together\n",
    "    agg = pd.concat(cols, axis=1)\n",
    "    agg.columns = names\n",
    "    # drop rows with NaN values\n",
    "    if dropnan:\n",
    "        agg.dropna(inplace=True)\n",
    "    return agg"
   ]
  },
  {
   "cell_type": "code",
   "execution_count": 22,
   "metadata": {
    "ExecuteTime": {
     "end_time": "2021-08-15T22:57:28.123141Z",
     "start_time": "2021-08-15T22:57:28.119693Z"
    }
   },
   "outputs": [],
   "source": [
    "n_hours = 3  #no of time lags\n",
    "n_features = 1 #no of features\n",
    "n_obs = n_hours*n_features"
   ]
  },
  {
   "cell_type": "code",
   "execution_count": 23,
   "metadata": {
    "ExecuteTime": {
     "end_time": "2021-08-15T22:57:31.347156Z",
     "start_time": "2021-08-15T22:57:31.328576Z"
    },
    "scrolled": true
   },
   "outputs": [
    {
     "data": {
      "text/html": [
       "<div>\n",
       "<style scoped>\n",
       "    .dataframe tbody tr th:only-of-type {\n",
       "        vertical-align: middle;\n",
       "    }\n",
       "\n",
       "    .dataframe tbody tr th {\n",
       "        vertical-align: top;\n",
       "    }\n",
       "\n",
       "    .dataframe thead th {\n",
       "        text-align: right;\n",
       "    }\n",
       "</style>\n",
       "<table border=\"1\" class=\"dataframe\">\n",
       "  <thead>\n",
       "    <tr style=\"text-align: right;\">\n",
       "      <th></th>\n",
       "      <th>var1(t-3)</th>\n",
       "      <th>var2(t-3)</th>\n",
       "      <th>var1(t-2)</th>\n",
       "      <th>var2(t-2)</th>\n",
       "      <th>var1(t-1)</th>\n",
       "      <th>var2(t-1)</th>\n",
       "      <th>var1(t)</th>\n",
       "      <th>var2(t)</th>\n",
       "    </tr>\n",
       "  </thead>\n",
       "  <tbody>\n",
       "    <tr>\n",
       "      <th>3</th>\n",
       "      <td>0.738498</td>\n",
       "      <td>0.227358</td>\n",
       "      <td>0.576828</td>\n",
       "      <td>0.235726</td>\n",
       "      <td>0.637577</td>\n",
       "      <td>0.242216</td>\n",
       "      <td>0.500787</td>\n",
       "      <td>0.253544</td>\n",
       "    </tr>\n",
       "    <tr>\n",
       "      <th>4</th>\n",
       "      <td>0.576828</td>\n",
       "      <td>0.235726</td>\n",
       "      <td>0.637577</td>\n",
       "      <td>0.242216</td>\n",
       "      <td>0.500787</td>\n",
       "      <td>0.253544</td>\n",
       "      <td>0.647714</td>\n",
       "      <td>0.247083</td>\n",
       "    </tr>\n",
       "    <tr>\n",
       "      <th>5</th>\n",
       "      <td>0.637577</td>\n",
       "      <td>0.242216</td>\n",
       "      <td>0.500787</td>\n",
       "      <td>0.253544</td>\n",
       "      <td>0.647714</td>\n",
       "      <td>0.247083</td>\n",
       "      <td>0.310494</td>\n",
       "      <td>0.241931</td>\n",
       "    </tr>\n",
       "    <tr>\n",
       "      <th>6</th>\n",
       "      <td>0.500787</td>\n",
       "      <td>0.253544</td>\n",
       "      <td>0.647714</td>\n",
       "      <td>0.247083</td>\n",
       "      <td>0.310494</td>\n",
       "      <td>0.241931</td>\n",
       "      <td>0.511188</td>\n",
       "      <td>0.238058</td>\n",
       "    </tr>\n",
       "    <tr>\n",
       "      <th>7</th>\n",
       "      <td>0.647714</td>\n",
       "      <td>0.247083</td>\n",
       "      <td>0.310494</td>\n",
       "      <td>0.241931</td>\n",
       "      <td>0.511188</td>\n",
       "      <td>0.238058</td>\n",
       "      <td>0.648564</td>\n",
       "      <td>0.239796</td>\n",
       "    </tr>\n",
       "  </tbody>\n",
       "</table>\n",
       "</div>"
      ],
      "text/plain": [
       "   var1(t-3)  var2(t-3)  var1(t-2)  var2(t-2)  var1(t-1)  var2(t-1)   var1(t)  \\\n",
       "3   0.738498   0.227358   0.576828   0.235726   0.637577   0.242216  0.500787   \n",
       "4   0.576828   0.235726   0.637577   0.242216   0.500787   0.253544  0.647714   \n",
       "5   0.637577   0.242216   0.500787   0.253544   0.647714   0.247083  0.310494   \n",
       "6   0.500787   0.253544   0.647714   0.247083   0.310494   0.241931  0.511188   \n",
       "7   0.647714   0.247083   0.310494   0.241931   0.511188   0.238058  0.648564   \n",
       "\n",
       "    var2(t)  \n",
       "3  0.253544  \n",
       "4  0.247083  \n",
       "5  0.241931  \n",
       "6  0.238058  \n",
       "7  0.239796  "
      ]
     },
     "execution_count": 23,
     "metadata": {},
     "output_type": "execute_result"
    }
   ],
   "source": [
    "reframed = series_to_supervised(scaled, n_hours, 1)\n",
    "reframed.head()"
   ]
  },
  {
   "cell_type": "code",
   "execution_count": 24,
   "metadata": {
    "ExecuteTime": {
     "end_time": "2021-08-15T22:57:33.646418Z",
     "start_time": "2021-08-15T22:57:33.631439Z"
    }
   },
   "outputs": [
    {
     "data": {
      "text/html": [
       "<div>\n",
       "<style scoped>\n",
       "    .dataframe tbody tr th:only-of-type {\n",
       "        vertical-align: middle;\n",
       "    }\n",
       "\n",
       "    .dataframe tbody tr th {\n",
       "        vertical-align: top;\n",
       "    }\n",
       "\n",
       "    .dataframe thead th {\n",
       "        text-align: right;\n",
       "    }\n",
       "</style>\n",
       "<table border=\"1\" class=\"dataframe\">\n",
       "  <thead>\n",
       "    <tr style=\"text-align: right;\">\n",
       "      <th></th>\n",
       "      <th>var1(t-3)</th>\n",
       "      <th>var2(t-3)</th>\n",
       "      <th>var1(t-2)</th>\n",
       "      <th>var2(t-2)</th>\n",
       "      <th>var1(t-1)</th>\n",
       "      <th>var2(t-1)</th>\n",
       "      <th>var1(t)</th>\n",
       "    </tr>\n",
       "  </thead>\n",
       "  <tbody>\n",
       "    <tr>\n",
       "      <th>3</th>\n",
       "      <td>0.738498</td>\n",
       "      <td>0.227358</td>\n",
       "      <td>0.576828</td>\n",
       "      <td>0.235726</td>\n",
       "      <td>0.637577</td>\n",
       "      <td>0.242216</td>\n",
       "      <td>0.500787</td>\n",
       "    </tr>\n",
       "    <tr>\n",
       "      <th>4</th>\n",
       "      <td>0.576828</td>\n",
       "      <td>0.235726</td>\n",
       "      <td>0.637577</td>\n",
       "      <td>0.242216</td>\n",
       "      <td>0.500787</td>\n",
       "      <td>0.253544</td>\n",
       "      <td>0.647714</td>\n",
       "    </tr>\n",
       "    <tr>\n",
       "      <th>5</th>\n",
       "      <td>0.637577</td>\n",
       "      <td>0.242216</td>\n",
       "      <td>0.500787</td>\n",
       "      <td>0.253544</td>\n",
       "      <td>0.647714</td>\n",
       "      <td>0.247083</td>\n",
       "      <td>0.310494</td>\n",
       "    </tr>\n",
       "    <tr>\n",
       "      <th>6</th>\n",
       "      <td>0.500787</td>\n",
       "      <td>0.253544</td>\n",
       "      <td>0.647714</td>\n",
       "      <td>0.247083</td>\n",
       "      <td>0.310494</td>\n",
       "      <td>0.241931</td>\n",
       "      <td>0.511188</td>\n",
       "    </tr>\n",
       "    <tr>\n",
       "      <th>7</th>\n",
       "      <td>0.647714</td>\n",
       "      <td>0.247083</td>\n",
       "      <td>0.310494</td>\n",
       "      <td>0.241931</td>\n",
       "      <td>0.511188</td>\n",
       "      <td>0.238058</td>\n",
       "      <td>0.648564</td>\n",
       "    </tr>\n",
       "  </tbody>\n",
       "</table>\n",
       "</div>"
      ],
      "text/plain": [
       "   var1(t-3)  var2(t-3)  var1(t-2)  var2(t-2)  var1(t-1)  var2(t-1)   var1(t)\n",
       "3   0.738498   0.227358   0.576828   0.235726   0.637577   0.242216  0.500787\n",
       "4   0.576828   0.235726   0.637577   0.242216   0.500787   0.253544  0.647714\n",
       "5   0.637577   0.242216   0.500787   0.253544   0.647714   0.247083  0.310494\n",
       "6   0.500787   0.253544   0.647714   0.247083   0.310494   0.241931  0.511188\n",
       "7   0.647714   0.247083   0.310494   0.241931   0.511188   0.238058  0.648564"
      ]
     },
     "execution_count": 24,
     "metadata": {},
     "output_type": "execute_result"
    }
   ],
   "source": [
    "reframed = reframed.drop(reframed.columns[-1], axis=1)\n",
    "reframed.head()"
   ]
  },
  {
   "cell_type": "code",
   "execution_count": 28,
   "metadata": {
    "ExecuteTime": {
     "end_time": "2021-08-15T22:57:59.316011Z",
     "start_time": "2021-08-15T22:57:59.309333Z"
    }
   },
   "outputs": [
    {
     "data": {
      "text/plain": [
       "(3000, 7)"
      ]
     },
     "execution_count": 28,
     "metadata": {},
     "output_type": "execute_result"
    }
   ],
   "source": [
    "values = reframed.values\n",
    "n_train_hours = 3000\n",
    "train = values[:n_train_hours, :]\n",
    "test = values[n_train_hours:, :]\n",
    "train.shape"
   ]
  },
  {
   "cell_type": "code",
   "execution_count": 29,
   "metadata": {
    "ExecuteTime": {
     "end_time": "2021-08-15T22:58:01.083974Z",
     "start_time": "2021-08-15T22:58:01.080065Z"
    }
   },
   "outputs": [],
   "source": [
    "# split into input and outputs\n",
    "train_X, train_y = train[:, :n_obs], train[:, -n_features]\n",
    "test_X, test_y = test[:, :n_obs], test[:, -n_features]"
   ]
  },
  {
   "cell_type": "code",
   "execution_count": 30,
   "metadata": {
    "ExecuteTime": {
     "end_time": "2021-08-15T22:58:05.766644Z",
     "start_time": "2021-08-15T22:58:05.759809Z"
    }
   },
   "outputs": [
    {
     "name": "stdout",
     "output_type": "stream",
     "text": [
      "(3000, 3, 1) (3000,) (722, 3, 1) (722,)\n"
     ]
    }
   ],
   "source": [
    "# reshape input to be 3D [samples, timesteps, features]\n",
    "train_X = train_X.reshape((train_X.shape[0], n_hours, n_features))\n",
    "test_X = test_X.reshape((test_X.shape[0], n_hours, n_features))\n",
    "print(train_X.shape, train_y.shape, test_X.shape, test_y.shape)"
   ]
  },
  {
   "cell_type": "code",
   "execution_count": 31,
   "metadata": {
    "ExecuteTime": {
     "end_time": "2021-08-15T22:58:48.459873Z",
     "start_time": "2021-08-15T22:58:13.530607Z"
    }
   },
   "outputs": [
    {
     "name": "stdout",
     "output_type": "stream",
     "text": [
      "Train on 3000 samples, validate on 722 samples\n",
      "Epoch 1/30\n",
      " - 2s - loss: 0.1081 - val_loss: 0.0300\n",
      "Epoch 2/30\n",
      " - 1s - loss: 0.0317 - val_loss: 0.0296\n",
      "Epoch 3/30\n",
      " - 1s - loss: 0.0317 - val_loss: 0.0289\n",
      "Epoch 4/30\n",
      " - 1s - loss: 0.0319 - val_loss: 0.0293\n",
      "Epoch 5/30\n",
      " - 1s - loss: 0.0319 - val_loss: 0.0317\n",
      "Epoch 6/30\n",
      " - 1s - loss: 0.0314 - val_loss: 0.0295\n",
      "Epoch 7/30\n",
      " - 1s - loss: 0.0317 - val_loss: 0.0358\n",
      "Epoch 8/30\n",
      " - 1s - loss: 0.0315 - val_loss: 0.0361\n",
      "Epoch 9/30\n",
      " - 1s - loss: 0.0316 - val_loss: 0.0380\n",
      "Epoch 10/30\n",
      " - 1s - loss: 0.0314 - val_loss: 0.0383\n",
      "Epoch 11/30\n",
      " - 1s - loss: 0.0315 - val_loss: 0.0392\n",
      "Epoch 12/30\n",
      " - 1s - loss: 0.0313 - val_loss: 0.0383\n",
      "Epoch 13/30\n",
      " - 1s - loss: 0.0310 - val_loss: 0.0387\n",
      "Epoch 14/30\n",
      " - 1s - loss: 0.0312 - val_loss: 0.0407\n",
      "Epoch 15/30\n",
      " - 1s - loss: 0.0313 - val_loss: 0.0412\n",
      "Epoch 16/30\n",
      " - 1s - loss: 0.0312 - val_loss: 0.0412\n",
      "Epoch 17/30\n",
      " - 1s - loss: 0.0311 - val_loss: 0.0397\n",
      "Epoch 18/30\n",
      " - 1s - loss: 0.0313 - val_loss: 0.0414\n",
      "Epoch 19/30\n",
      " - 1s - loss: 0.0315 - val_loss: 0.0414\n",
      "Epoch 20/30\n",
      " - 1s - loss: 0.0315 - val_loss: 0.0412\n",
      "Epoch 21/30\n",
      " - 1s - loss: 0.0313 - val_loss: 0.0408\n",
      "Epoch 22/30\n",
      " - 1s - loss: 0.0314 - val_loss: 0.0405\n",
      "Epoch 23/30\n",
      " - 1s - loss: 0.0315 - val_loss: 0.0418\n",
      "Epoch 24/30\n",
      " - 1s - loss: 0.0312 - val_loss: 0.0429\n",
      "Epoch 25/30\n",
      " - 1s - loss: 0.0313 - val_loss: 0.0424\n",
      "Epoch 26/30\n",
      " - 1s - loss: 0.0313 - val_loss: 0.0405\n",
      "Epoch 27/30\n",
      " - 1s - loss: 0.0314 - val_loss: 0.0400\n",
      "Epoch 28/30\n",
      " - 1s - loss: 0.0316 - val_loss: 0.0409\n",
      "Epoch 29/30\n",
      " - 1s - loss: 0.0315 - val_loss: 0.0402\n",
      "Epoch 30/30\n",
      " - 1s - loss: 0.0315 - val_loss: 0.0397\n"
     ]
    }
   ],
   "source": [
    "# design network\n",
    "model = Sequential()\n",
    "model.add(LSTM(5, input_shape=(train_X.shape[1], train_X.shape[2])))\n",
    "model.add(Dense(1))\n",
    "model.compile(loss='mae', optimizer='adam')\n",
    "# fit network\n",
    "history = model.fit(train_X, train_y, epochs=30, batch_size=4, validation_data=(test_X, test_y), verbose=2, shuffle=False)\n",
    "# plot history\n"
   ]
  },
  {
   "cell_type": "code",
   "execution_count": 32,
   "metadata": {
    "ExecuteTime": {
     "end_time": "2021-08-15T22:58:50.412264Z",
     "start_time": "2021-08-15T22:58:50.206741Z"
    }
   },
   "outputs": [
    {
     "data": {
      "image/png": "[encoded data removed]",
      "text/plain": [
       "<Figure size 432x288 with 1 Axes>"
      ]
     },
     "metadata": {
      "needs_background": "light"
     },
     "output_type": "display_data"
    }
   ],
   "source": [
    "plt.plot(history.history['loss'], label='train')\n",
    "plt.plot(history.history['val_loss'], label='test')\n",
    "plt.legend()\n",
    "plt.show()"
   ]
  },
  {
   "cell_type": "code",
   "execution_count": 33,
   "metadata": {
    "ExecuteTime": {
     "end_time": "2021-08-15T22:59:01.149533Z",
     "start_time": "2021-08-15T22:59:01.036142Z"
    }
   },
   "outputs": [
    {
     "name": "stdout",
     "output_type": "stream",
     "text": [
      "Test RMSE: 0.051\n"
     ]
    }
   ],
   "source": [
    "# make a prediction\n",
    "yhat = model.predict(test_X)\n",
    "test_X = test_X.reshape((test_X.shape[0], n_hours* n_features))\n",
    "# invert scaling for forecast\n",
    "inv_yhat = np.concatenate((yhat, test_X[:, -1:]), axis=1)\n",
    "inv_yhat = scaler.inverse_transform(inv_yhat)\n",
    "inv_yhat = inv_yhat[:,0]\n",
    "# invert scaling for actual\n",
    "test_y = test_y.reshape((len(test_y), 1))\n",
    "inv_y = np.concatenate((test_y, test_X[:, -1:]), axis=1)\n",
    "inv_y = scaler.inverse_transform(inv_y)\n",
    "inv_y = inv_y[:,0]\n",
    "# calculate RMSE\n",
    "rmse = np.sqrt(mean_squared_error(inv_y, inv_yhat))\n",
    "print('Test RMSE: %.3f' % rmse)"
   ]
  },
  {
   "cell_type": "code",
   "execution_count": 34,
   "metadata": {
    "ExecuteTime": {
     "end_time": "2021-08-15T22:59:03.730199Z",
     "start_time": "2021-08-15T22:59:03.582625Z"
    }
   },
   "outputs": [
    {
     "data": {
      "text/plain": [
       "[<matplotlib.lines.Line2D at 0x7fd72e3fa5d0>]"
      ]
     },
     "execution_count": 34,
     "metadata": {},
     "output_type": "execute_result"
    },
    {
     "data": {
      "image/png": "[encoded data removed]",
      "text/plain": [
       "<Figure size 432x288 with 1 Axes>"
      ]
     },
     "metadata": {
      "needs_background": "light"
     },
     "output_type": "display_data"
    }
   ],
   "source": [
    "plt.plot(inv_y)\n",
    "plt.plot(inv_yhat)"
   ]
  },
  {
   "cell_type": "code",
   "execution_count": 35,
   "metadata": {
    "ExecuteTime": {
     "end_time": "2021-08-15T22:59:09.991856Z",
     "start_time": "2021-08-15T22:59:09.988283Z"
    }
   },
   "outputs": [],
   "source": [
    "plt.show()"
   ]
  },
  {
   "cell_type": "code",
   "execution_count": 36,
   "metadata": {
    "ExecuteTime": {
     "end_time": "2021-08-15T22:59:13.068612Z",
     "start_time": "2021-08-15T22:59:13.064643Z"
    }
   },
   "outputs": [],
   "source": [
    "inv_y = np.insert(inv_y,0,7000)"
   ]
  },
  {
   "cell_type": "code",
   "execution_count": 37,
   "metadata": {
    "ExecuteTime": {
     "end_time": "2021-08-15T22:59:15.579049Z",
     "start_time": "2021-08-15T22:59:15.399355Z"
    }
   },
   "outputs": [
    {
     "data": {
      "image/png": "[encoded data removed]",
      "text/plain": [
       "<Figure size 432x288 with 1 Axes>"
      ]
     },
     "metadata": {
      "needs_background": "light"
     },
     "output_type": "display_data"
    }
   ],
   "source": [
    "plt.plot(inv_y)\n",
    "plt.plot(inv_yhat)\n",
    "plt.show()"
   ]
  },
  {
   "cell_type": "markdown",
   "metadata": {},
   "source": [
    "# Elephas Implementation"
   ]
  },
  {
   "cell_type": "code",
   "execution_count": 40,
   "metadata": {
    "ExecuteTime": {
     "end_time": "2021-08-15T23:01:35.756489Z",
     "start_time": "2021-08-15T23:01:35.233047Z"
    }
   },
   "outputs": [],
   "source": [
    "df=df.reset_index()\n",
    "spark_df = sql.createDataFrame(df)\n",
    "CleanDF = spark_df.withColumn(\"DateTime_casted\",spark_df['DateTime'].cast(TimestampType()))\n",
    "FinalDf = CleanDF.selectExpr(\"DateTime_casted as Date_Time\", \"Sentiment_score\",'Price AS Price1')"
   ]
  },
  {
   "cell_type": "code",
   "execution_count": 41,
   "metadata": {
    "ExecuteTime": {
     "end_time": "2021-08-15T23:01:37.789718Z",
     "start_time": "2021-08-15T23:01:37.773460Z"
    }
   },
   "outputs": [
    {
     "ename": "ImportError",
     "evalue": "cannot import name '_slice_arrays' from 'keras.engine.training' (/opt/conda/lib/python3.7/site-packages/keras/engine/training.py)",
     "output_type": "error",
     "traceback": [
      "\u001b[0;31m---------------------------------------------------------------------------\u001b[0m",
      "\u001b[0;31mImportError\u001b[0m                               Traceback (most recent call last)",
      "\u001b[0;32m<ipython-input-41-7013866232c0>\u001b[0m in \u001b[0;36m<module>\u001b[0;34m\u001b[0m\n\u001b[0;32m----> 1\u001b[0;31m \u001b[0;32mfrom\u001b[0m \u001b[0mkeras\u001b[0m\u001b[0;34m.\u001b[0m\u001b[0mengine\u001b[0m\u001b[0;34m.\u001b[0m\u001b[0mtraining\u001b[0m \u001b[0;32mimport\u001b[0m \u001b[0m_slice_arrays\u001b[0m\u001b[0;34m\u001b[0m\u001b[0;34m\u001b[0m\u001b[0m\n\u001b[0m",
      "\u001b[0;31mImportError\u001b[0m: cannot import name '_slice_arrays' from 'keras.engine.training' (/opt/conda/lib/python3.7/site-packages/keras/engine/training.py)"
     ]
    }
   ],
   "source": [
    "#from keras.engine.training import _slice_arrays"
   ]
  },
  {
   "cell_type": "code",
   "execution_count": 43,
   "metadata": {
    "ExecuteTime": {
     "end_time": "2021-08-15T23:03:48.381708Z",
     "start_time": "2021-08-15T23:03:46.304763Z"
    }
   },
   "outputs": [
    {
     "name": "stdout",
     "output_type": "stream",
     "text": [
      "+-------------------+-------------------+------------------+\n",
      "|          Date_Time|    Sentiment_score|            Price1|\n",
      "+-------------------+-------------------+------------------+\n",
      "|2021-02-05 10:00:00| 0.5454545454545454|           37435.0|\n",
      "|2021-02-05 11:00:00| 0.3977272727272727|           37729.0|\n",
      "|2021-02-05 12:00:00| 0.4532374100719425|           37957.0|\n",
      "|2021-02-05 13:00:00| 0.3282442748091603|           38355.0|\n",
      "|2021-02-05 14:00:00|             0.4625|           38128.0|\n",
      "|2021-02-05 15:00:00|0.15436241610738255|           37947.0|\n",
      "|2021-02-05 16:00:00| 0.3377483443708609|    37810.93317996|\n",
      "|2021-02-05 17:00:00| 0.4632768361581921|           37872.0|\n",
      "|2021-02-05 18:00:00|0.34328358208955223|           37371.0|\n",
      "|2021-02-05 19:00:00| 0.3834586466165413|37604.044422000006|\n",
      "|2021-02-05 20:00:00|0.20175438596491227|           37732.0|\n",
      "|2021-02-05 21:00:00|               0.24|           37811.0|\n",
      "|2021-02-05 22:00:00| 0.3009708737864077|           37782.0|\n",
      "|2021-02-05 23:00:00|0.20253164556962025|           38260.0|\n",
      "|2021-02-06 00:00:00| 0.3983739837398374|           38750.0|\n",
      "|2021-02-06 01:00:00| 0.4027777777777778|           38801.0|\n",
      "|2021-02-06 02:00:00| 0.4081632653061225|           39400.0|\n",
      "|2021-02-06 03:00:00| 0.5578947368421052|           39412.0|\n",
      "|2021-02-06 04:00:00| 0.4819277108433735|           39250.0|\n",
      "|2021-02-06 05:00:00|  0.273972602739726|           39084.0|\n",
      "+-------------------+-------------------+------------------+\n",
      "only showing top 20 rows\n",
      "\n"
     ]
    }
   ],
   "source": [
    "FinalDf.show()"
   ]
  },
  {
   "cell_type": "code",
   "execution_count": 44,
   "metadata": {
    "ExecuteTime": {
     "end_time": "2021-08-15T23:03:52.493090Z",
     "start_time": "2021-08-15T23:03:51.337589Z"
    },
    "scrolled": true
   },
   "outputs": [
    {
     "name": "stdout",
     "output_type": "stream",
     "text": [
      "+-------------------+-------------------+------------------+------------------+\n",
      "|          Date_Time|    Sentiment_score|            Price1|            Price2|\n",
      "+-------------------+-------------------+------------------+------------------+\n",
      "|2021-02-05 11:00:00| 0.3977272727272727|           37729.0|           37435.0|\n",
      "|2021-02-05 12:00:00| 0.4532374100719425|           37957.0|           37729.0|\n",
      "|2021-02-05 13:00:00| 0.3282442748091603|           38355.0|           37957.0|\n",
      "|2021-02-05 14:00:00|             0.4625|           38128.0|           38355.0|\n",
      "|2021-02-05 15:00:00|0.15436241610738255|           37947.0|           38128.0|\n",
      "|2021-02-05 16:00:00| 0.3377483443708609|    37810.93317996|           37947.0|\n",
      "|2021-02-05 17:00:00| 0.4632768361581921|           37872.0|    37810.93317996|\n",
      "|2021-02-05 18:00:00|0.34328358208955223|           37371.0|           37872.0|\n",
      "|2021-02-05 19:00:00| 0.3834586466165413|37604.044422000006|           37371.0|\n",
      "|2021-02-05 20:00:00|0.20175438596491227|           37732.0|37604.044422000006|\n",
      "|2021-02-05 21:00:00|               0.24|           37811.0|           37732.0|\n",
      "|2021-02-05 22:00:00| 0.3009708737864077|           37782.0|           37811.0|\n",
      "|2021-02-05 23:00:00|0.20253164556962025|           38260.0|           37782.0|\n",
      "|2021-02-06 00:00:00| 0.3983739837398374|           38750.0|           38260.0|\n",
      "|2021-02-06 01:00:00| 0.4027777777777778|           38801.0|           38750.0|\n",
      "|2021-02-06 02:00:00| 0.4081632653061225|           39400.0|           38801.0|\n",
      "|2021-02-06 03:00:00| 0.5578947368421052|           39412.0|           39400.0|\n",
      "|2021-02-06 04:00:00| 0.4819277108433735|           39250.0|           39412.0|\n",
      "|2021-02-06 05:00:00|  0.273972602739726|           39084.0|           39250.0|\n",
      "|2021-02-06 06:00:00|0.27835051546391754|    39337.73615464|           39084.0|\n",
      "+-------------------+-------------------+------------------+------------------+\n",
      "only showing top 20 rows\n",
      "\n"
     ]
    }
   ],
   "source": [
    "from pyspark.sql.functions import lag, col\n",
    "from pyspark.sql.window import Window\n",
    "for i in range(2,3):\n",
    "    col1 = \"Price%d\"%(i-1)\n",
    "    col2 = \"Price%d\"%i\n",
    "    w = Window().partitionBy().orderBy(col(\"Date_Time\"))\n",
    "    FinalDf=FinalDf.select(\"*\", lag(col1).over(w).alias(col2)).na.drop()\n",
    "    FinalDf.show()"
   ]
  },
  {
   "cell_type": "code",
   "execution_count": 45,
   "metadata": {
    "ExecuteTime": {
     "end_time": "2021-08-15T23:03:57.645561Z",
     "start_time": "2021-08-15T23:03:57.626686Z"
    }
   },
   "outputs": [],
   "source": [
    "FinalDf = FinalDf.selectExpr('Date_Time','Sentiment_score','Price2 as Input_price','Price1 as Price')"
   ]
  },
  {
   "cell_type": "code",
   "execution_count": 46,
   "metadata": {
    "ExecuteTime": {
     "end_time": "2021-08-15T23:03:59.573170Z",
     "start_time": "2021-08-15T23:03:59.568076Z"
    }
   },
   "outputs": [],
   "source": [
    "# reshape input to be 3D [samples, timesteps, features]\n",
    "train_X = train_X.reshape((train_X.shape[0], n_hours, n_features))\n",
    "test_X = test_X.reshape((test_X.shape[0], n_hours, n_features))"
   ]
  },
  {
   "cell_type": "code",
   "execution_count": 47,
   "metadata": {
    "ExecuteTime": {
     "end_time": "2021-08-15T23:04:01.458250Z",
     "start_time": "2021-08-15T23:04:01.420996Z"
    }
   },
   "outputs": [],
   "source": [
    "rdd = to_simple_rdd(sc, train_X, train_y)"
   ]
  },
  {
   "cell_type": "code",
   "execution_count": 48,
   "metadata": {
    "ExecuteTime": {
     "end_time": "2021-08-15T23:04:03.388267Z",
     "start_time": "2021-08-15T23:04:03.247378Z"
    }
   },
   "outputs": [
    {
     "data": {
      "text/plain": [
       "3000"
      ]
     },
     "execution_count": 48,
     "metadata": {},
     "output_type": "execute_result"
    }
   ],
   "source": [
    "rdd.count()"
   ]
  },
  {
   "cell_type": "code",
   "execution_count": 49,
   "metadata": {
    "ExecuteTime": {
     "end_time": "2021-08-15T23:04:06.626888Z",
     "start_time": "2021-08-15T23:04:06.622809Z"
    }
   },
   "outputs": [],
   "source": [
    "from keras.models import Sequential\n",
    "from keras.layers.core import Dense, Dropout, Activation\n",
    "from keras.optimizers import SGD\n",
    "#from keras.models import model_from_yaml,slice_X\n"
   ]
  },
  {
   "cell_type": "code",
   "execution_count": 50,
   "metadata": {
    "ExecuteTime": {
     "end_time": "2021-08-15T23:04:09.658801Z",
     "start_time": "2021-08-15T23:04:08.304125Z"
    }
   },
   "outputs": [
    {
     "ename": "ImportError",
     "evalue": "cannot import name 'optimizers' from 'elephas' (/opt/conda/lib/python3.7/site-packages/elephas/__init__.py)",
     "output_type": "error",
     "traceback": [
      "\u001b[0;31m---------------------------------------------------------------------------\u001b[0m",
      "\u001b[0;31mImportError\u001b[0m                               Traceback (most recent call last)",
      "\u001b[0;32m<ipython-input-50-30fa7840d3be>\u001b[0m in \u001b[0;36m<module>\u001b[0;34m\u001b[0m\n\u001b[1;32m      2\u001b[0m \u001b[0;32mfrom\u001b[0m \u001b[0melephas\u001b[0m\u001b[0;34m.\u001b[0m\u001b[0mspark_model\u001b[0m \u001b[0;32mimport\u001b[0m \u001b[0mSparkModel\u001b[0m\u001b[0;34m\u001b[0m\u001b[0;34m\u001b[0m\u001b[0m\n\u001b[1;32m      3\u001b[0m \u001b[0;32mfrom\u001b[0m \u001b[0melephas\u001b[0m\u001b[0;34m.\u001b[0m\u001b[0mutils\u001b[0m\u001b[0;34m.\u001b[0m\u001b[0mrdd_utils\u001b[0m \u001b[0;32mimport\u001b[0m \u001b[0mto_simple_rdd\u001b[0m\u001b[0;34m\u001b[0m\u001b[0;34m\u001b[0m\u001b[0m\n\u001b[0;32m----> 4\u001b[0;31m \u001b[0;32mfrom\u001b[0m \u001b[0melephas\u001b[0m \u001b[0;32mimport\u001b[0m \u001b[0moptimizers\u001b[0m \u001b[0;32mas\u001b[0m \u001b[0melephas_optimizers\u001b[0m\u001b[0;34m\u001b[0m\u001b[0;34m\u001b[0m\u001b[0m\n\u001b[0m",
      "\u001b[0;31mImportError\u001b[0m: cannot import name 'optimizers' from 'elephas' (/opt/conda/lib/python3.7/site-packages/elephas/__init__.py)"
     ]
    }
   ],
   "source": [
    "from keras.utils import np_utils\n",
    "from elephas.spark_model import SparkModel\n",
    "from elephas.utils.rdd_utils import to_simple_rdd\n",
    "from elephas import optimizers as elephas_optimizers"
   ]
  },
  {
   "cell_type": "code",
   "execution_count": 51,
   "metadata": {
    "ExecuteTime": {
     "end_time": "2021-08-15T23:04:11.966701Z",
     "start_time": "2021-08-15T23:04:11.861854Z"
    }
   },
   "outputs": [],
   "source": [
    "model = Sequential()\n",
    "model.add(LSTM(5, input_shape=(train_X.shape[1], train_X.shape[2])))\n",
    "model.add(Dense(1))\n",
    "model.compile(loss='mae', optimizer='adam')"
   ]
  },
  {
   "cell_type": "code",
   "execution_count": 52,
   "metadata": {
    "ExecuteTime": {
     "end_time": "2021-08-15T23:04:14.355009Z",
     "start_time": "2021-08-15T23:04:14.336771Z"
    }
   },
   "outputs": [
    {
     "ename": "NameError",
     "evalue": "name 'elephas_optimizers' is not defined",
     "output_type": "error",
     "traceback": [
      "\u001b[0;31m---------------------------------------------------------------------------\u001b[0m",
      "\u001b[0;31mNameError\u001b[0m                                 Traceback (most recent call last)",
      "\u001b[0;32m<ipython-input-52-0809408d964e>\u001b[0m in \u001b[0;36m<module>\u001b[0;34m\u001b[0m\n\u001b[0;32m----> 1\u001b[0;31m \u001b[0madam\u001b[0m \u001b[0;34m=\u001b[0m \u001b[0melephas_optimizers\u001b[0m\u001b[0;34m.\u001b[0m\u001b[0mAdam\u001b[0m\u001b[0;34m(\u001b[0m\u001b[0;34m)\u001b[0m\u001b[0;34m\u001b[0m\u001b[0;34m\u001b[0m\u001b[0m\n\u001b[0m",
      "\u001b[0;31mNameError\u001b[0m: name 'elephas_optimizers' is not defined"
     ]
    }
   ],
   "source": [
    "adam = elephas_optimizers.Adam()"
   ]
  },
  {
   "cell_type": "code",
   "execution_count": 1,
   "metadata": {},
   "outputs": [],
   "source": [
    "spark_model = SparkModel(sc,model, optimizer=adam, frequency='epoch', num_workers=2)\n",
    "spark_model.train(rdd, nb_epoch=50, batch_size=4, verbose=2, validation_split=0.1)"
   ]
  },
  {
   "cell_type": "markdown",
   "metadata": {
    "collapsed": true
   },
   "source": [
    "## Multifeature Sentiment Analysis"
   ]
  },
  {
   "cell_type": "code",
   "execution_count": 53,
   "metadata": {
    "ExecuteTime": {
     "end_time": "2021-08-15T23:04:58.042082Z",
     "start_time": "2021-08-15T23:04:57.985019Z"
    }
   },
   "outputs": [
    {
     "data": {
      "text/html": [
       "<div>\n",
       "<style scoped>\n",
       "    .dataframe tbody tr th:only-of-type {\n",
       "        vertical-align: middle;\n",
       "    }\n",
       "\n",
       "    .dataframe tbody tr th {\n",
       "        vertical-align: top;\n",
       "    }\n",
       "\n",
       "    .dataframe thead th {\n",
       "        text-align: right;\n",
       "    }\n",
       "</style>\n",
       "<table border=\"1\" class=\"dataframe\">\n",
       "  <thead>\n",
       "    <tr style=\"text-align: right;\">\n",
       "      <th></th>\n",
       "      <th>DateTime</th>\n",
       "      <th>Negative</th>\n",
       "      <th>Neutral</th>\n",
       "      <th>Positive</th>\n",
       "      <th>Compound</th>\n",
       "      <th>Price</th>\n",
       "    </tr>\n",
       "  </thead>\n",
       "  <tbody>\n",
       "    <tr>\n",
       "      <th>0</th>\n",
       "      <td>2021-02-05 10:00:00</td>\n",
       "      <td>0.000000</td>\n",
       "      <td>0.872000</td>\n",
       "      <td>0.128000</td>\n",
       "      <td>0.281118</td>\n",
       "      <td>37435.0</td>\n",
       "    </tr>\n",
       "    <tr>\n",
       "      <th>1</th>\n",
       "      <td>2021-02-05 11:00:00</td>\n",
       "      <td>0.034909</td>\n",
       "      <td>0.877455</td>\n",
       "      <td>0.087602</td>\n",
       "      <td>0.132855</td>\n",
       "      <td>37729.0</td>\n",
       "    </tr>\n",
       "    <tr>\n",
       "      <th>2</th>\n",
       "      <td>2021-02-05 12:00:00</td>\n",
       "      <td>0.024576</td>\n",
       "      <td>0.877367</td>\n",
       "      <td>0.098058</td>\n",
       "      <td>0.182863</td>\n",
       "      <td>37957.0</td>\n",
       "    </tr>\n",
       "    <tr>\n",
       "      <th>3</th>\n",
       "      <td>2021-02-05 13:00:00</td>\n",
       "      <td>0.024511</td>\n",
       "      <td>0.891771</td>\n",
       "      <td>0.083718</td>\n",
       "      <td>0.136151</td>\n",
       "      <td>38355.0</td>\n",
       "    </tr>\n",
       "    <tr>\n",
       "      <th>4</th>\n",
       "      <td>2021-02-05 14:00:00</td>\n",
       "      <td>0.021925</td>\n",
       "      <td>0.903031</td>\n",
       "      <td>0.075038</td>\n",
       "      <td>0.139875</td>\n",
       "      <td>38128.0</td>\n",
       "    </tr>\n",
       "  </tbody>\n",
       "</table>\n",
       "</div>"
      ],
      "text/plain": [
       "              DateTime  Negative   Neutral  Positive  Compound    Price\n",
       "0  2021-02-05 10:00:00  0.000000  0.872000  0.128000  0.281118  37435.0\n",
       "1  2021-02-05 11:00:00  0.034909  0.877455  0.087602  0.132855  37729.0\n",
       "2  2021-02-05 12:00:00  0.024576  0.877367  0.098058  0.182863  37957.0\n",
       "3  2021-02-05 13:00:00  0.024511  0.891771  0.083718  0.136151  38355.0\n",
       "4  2021-02-05 14:00:00  0.021925  0.903031  0.075038  0.139875  38128.0"
      ]
     },
     "execution_count": 53,
     "metadata": {},
     "output_type": "execute_result"
    }
   ],
   "source": [
    "df1 = pd.read_csv('Data/bitcoin_hourly_price_sent.csv')\n",
    "df1=df1[['date','vader_neg_overall','vader_neu_overall','vader_pos_overall','vader_compound_overall','close']]\n",
    "df1.columns = ['DateTime','Negative','Neutral','Positive','Compound','Price']\n",
    "df1.head()"
   ]
  },
  {
   "cell_type": "code",
   "execution_count": 54,
   "metadata": {
    "ExecuteTime": {
     "end_time": "2021-08-15T23:05:02.615950Z",
     "start_time": "2021-08-15T23:05:02.564784Z"
    }
   },
   "outputs": [],
   "source": [
    "df1 = pd.read_csv('Data/bitcoin_hourly_price_sent.csv')\n",
    "df1=df1[['date','vader_neg_overall','vader_neu_overall','vader_pos_overall','vader_compound_overall','close']]"
   ]
  },
  {
   "cell_type": "code",
   "execution_count": 55,
   "metadata": {
    "ExecuteTime": {
     "end_time": "2021-08-15T23:05:07.405626Z",
     "start_time": "2021-08-15T23:05:07.399514Z"
    }
   },
   "outputs": [
    {
     "data": {
      "text/plain": [
       "Index(['date', 'vader_neg_overall', 'vader_neu_overall', 'vader_pos_overall',\n",
       "       'vader_compound_overall', 'close'],\n",
       "      dtype='object')"
      ]
     },
     "execution_count": 55,
     "metadata": {},
     "output_type": "execute_result"
    }
   ],
   "source": [
    "df1.columns"
   ]
  },
  {
   "cell_type": "code",
   "execution_count": 56,
   "metadata": {
    "ExecuteTime": {
     "end_time": "2021-08-15T23:05:30.474717Z",
     "start_time": "2021-08-15T23:05:30.004494Z"
    }
   },
   "outputs": [
    {
     "data": {
      "image/png": "[encoded data removed]",
      "text/plain": [
       "<Figure size 432x288 with 5 Axes>"
      ]
     },
     "metadata": {
      "needs_background": "light"
     },
     "output_type": "display_data"
    }
   ],
   "source": [
    "values = df1.values\n",
    "# specify columns to plot\n",
    "groups = [1, 2, 3, 4, 5]\n",
    "i = 1\n",
    "# plot each column\n",
    "plt.figure()\n",
    "for group in groups:\n",
    "    plt.subplot(len(groups), 1, i)\n",
    "    plt.plot(values[:, group])\n",
    "    plt.title(df1.columns[group], y=0.5, loc='right')\n",
    "    i += 1\n",
    "plt.show()"
   ]
  },
  {
   "cell_type": "code",
   "execution_count": 58,
   "metadata": {
    "ExecuteTime": {
     "end_time": "2021-08-15T23:05:51.321027Z",
     "start_time": "2021-08-15T23:05:51.316159Z"
    }
   },
   "outputs": [],
   "source": [
    "df1.set_index('date',inplace=True)"
   ]
  },
  {
   "cell_type": "code",
   "execution_count": 59,
   "metadata": {
    "ExecuteTime": {
     "end_time": "2021-08-15T23:05:54.474322Z",
     "start_time": "2021-08-15T23:05:54.460095Z"
    }
   },
   "outputs": [
    {
     "data": {
      "text/html": [
       "<div>\n",
       "<style scoped>\n",
       "    .dataframe tbody tr th:only-of-type {\n",
       "        vertical-align: middle;\n",
       "    }\n",
       "\n",
       "    .dataframe tbody tr th {\n",
       "        vertical-align: top;\n",
       "    }\n",
       "\n",
       "    .dataframe thead th {\n",
       "        text-align: right;\n",
       "    }\n",
       "</style>\n",
       "<table border=\"1\" class=\"dataframe\">\n",
       "  <thead>\n",
       "    <tr style=\"text-align: right;\">\n",
       "      <th></th>\n",
       "      <th>close</th>\n",
       "      <th>vader_neg_overall</th>\n",
       "      <th>vader_neu_overall</th>\n",
       "      <th>vader_pos_overall</th>\n",
       "      <th>vader_compound_overall</th>\n",
       "    </tr>\n",
       "    <tr>\n",
       "      <th>date</th>\n",
       "      <th></th>\n",
       "      <th></th>\n",
       "      <th></th>\n",
       "      <th></th>\n",
       "      <th></th>\n",
       "    </tr>\n",
       "  </thead>\n",
       "  <tbody>\n",
       "    <tr>\n",
       "      <th>2021-02-05 10:00:00</th>\n",
       "      <td>37435.0</td>\n",
       "      <td>0.000000</td>\n",
       "      <td>0.872000</td>\n",
       "      <td>0.128000</td>\n",
       "      <td>0.281118</td>\n",
       "    </tr>\n",
       "    <tr>\n",
       "      <th>2021-02-05 11:00:00</th>\n",
       "      <td>37729.0</td>\n",
       "      <td>0.034909</td>\n",
       "      <td>0.877455</td>\n",
       "      <td>0.087602</td>\n",
       "      <td>0.132855</td>\n",
       "    </tr>\n",
       "    <tr>\n",
       "      <th>2021-02-05 12:00:00</th>\n",
       "      <td>37957.0</td>\n",
       "      <td>0.024576</td>\n",
       "      <td>0.877367</td>\n",
       "      <td>0.098058</td>\n",
       "      <td>0.182863</td>\n",
       "    </tr>\n",
       "    <tr>\n",
       "      <th>2021-02-05 13:00:00</th>\n",
       "      <td>38355.0</td>\n",
       "      <td>0.024511</td>\n",
       "      <td>0.891771</td>\n",
       "      <td>0.083718</td>\n",
       "      <td>0.136151</td>\n",
       "    </tr>\n",
       "    <tr>\n",
       "      <th>2021-02-05 14:00:00</th>\n",
       "      <td>38128.0</td>\n",
       "      <td>0.021925</td>\n",
       "      <td>0.903031</td>\n",
       "      <td>0.075038</td>\n",
       "      <td>0.139875</td>\n",
       "    </tr>\n",
       "  </tbody>\n",
       "</table>\n",
       "</div>"
      ],
      "text/plain": [
       "                       close  vader_neg_overall  vader_neu_overall  \\\n",
       "date                                                                 \n",
       "2021-02-05 10:00:00  37435.0           0.000000           0.872000   \n",
       "2021-02-05 11:00:00  37729.0           0.034909           0.877455   \n",
       "2021-02-05 12:00:00  37957.0           0.024576           0.877367   \n",
       "2021-02-05 13:00:00  38355.0           0.024511           0.891771   \n",
       "2021-02-05 14:00:00  38128.0           0.021925           0.903031   \n",
       "\n",
       "                     vader_pos_overall  vader_compound_overall  \n",
       "date                                                            \n",
       "2021-02-05 10:00:00           0.128000                0.281118  \n",
       "2021-02-05 11:00:00           0.087602                0.132855  \n",
       "2021-02-05 12:00:00           0.098058                0.182863  \n",
       "2021-02-05 13:00:00           0.083718                0.136151  \n",
       "2021-02-05 14:00:00           0.075038                0.139875  "
      ]
     },
     "execution_count": 59,
     "metadata": {},
     "output_type": "execute_result"
    }
   ],
   "source": [
    "cols = df1.columns.tolist()\n",
    "cols = cols[-1:] + cols[:-1]\n",
    "df1 = df1[cols]\n",
    "df1.head()"
   ]
  },
  {
   "cell_type": "code",
   "execution_count": 60,
   "metadata": {
    "ExecuteTime": {
     "end_time": "2021-08-15T23:05:56.967845Z",
     "start_time": "2021-08-15T23:05:56.963074Z"
    }
   },
   "outputs": [],
   "source": [
    "scaler = MinMaxScaler(feature_range=(0, 1))\n",
    "scaled = scaler.fit_transform(df1.values)"
   ]
  },
  {
   "cell_type": "code",
   "execution_count": 61,
   "metadata": {
    "ExecuteTime": {
     "end_time": "2021-08-15T23:05:59.907505Z",
     "start_time": "2021-08-15T23:05:59.903436Z"
    }
   },
   "outputs": [],
   "source": [
    "n_hours = 3\n",
    "n_features = 5\n",
    "n_obs = n_hours*n_features"
   ]
  },
  {
   "cell_type": "code",
   "execution_count": 62,
   "metadata": {
    "ExecuteTime": {
     "end_time": "2021-08-15T23:06:01.678485Z",
     "start_time": "2021-08-15T23:06:01.649099Z"
    },
    "scrolled": true
   },
   "outputs": [
    {
     "data": {
      "text/html": [
       "<div>\n",
       "<style scoped>\n",
       "    .dataframe tbody tr th:only-of-type {\n",
       "        vertical-align: middle;\n",
       "    }\n",
       "\n",
       "    .dataframe tbody tr th {\n",
       "        vertical-align: top;\n",
       "    }\n",
       "\n",
       "    .dataframe thead th {\n",
       "        text-align: right;\n",
       "    }\n",
       "</style>\n",
       "<table border=\"1\" class=\"dataframe\">\n",
       "  <thead>\n",
       "    <tr style=\"text-align: right;\">\n",
       "      <th></th>\n",
       "      <th>var1(t-3)</th>\n",
       "      <th>var2(t-3)</th>\n",
       "      <th>var3(t-3)</th>\n",
       "      <th>var4(t-3)</th>\n",
       "      <th>var5(t-3)</th>\n",
       "      <th>var1(t-2)</th>\n",
       "      <th>var2(t-2)</th>\n",
       "      <th>var3(t-2)</th>\n",
       "      <th>var4(t-2)</th>\n",
       "      <th>var5(t-2)</th>\n",
       "      <th>var1(t-1)</th>\n",
       "      <th>var2(t-1)</th>\n",
       "      <th>var3(t-1)</th>\n",
       "      <th>var4(t-1)</th>\n",
       "      <th>var5(t-1)</th>\n",
       "      <th>var1(t)</th>\n",
       "      <th>var2(t)</th>\n",
       "      <th>var3(t)</th>\n",
       "      <th>var4(t)</th>\n",
       "      <th>var5(t)</th>\n",
       "    </tr>\n",
       "  </thead>\n",
       "  <tbody>\n",
       "    <tr>\n",
       "      <th>3</th>\n",
       "      <td>0.227358</td>\n",
       "      <td>0.000000</td>\n",
       "      <td>0.550507</td>\n",
       "      <td>0.542544</td>\n",
       "      <td>0.578338</td>\n",
       "      <td>0.235726</td>\n",
       "      <td>0.358928</td>\n",
       "      <td>0.584093</td>\n",
       "      <td>0.257428</td>\n",
       "      <td>0.320214</td>\n",
       "      <td>0.242216</td>\n",
       "      <td>0.252680</td>\n",
       "      <td>0.583553</td>\n",
       "      <td>0.331218</td>\n",
       "      <td>0.407277</td>\n",
       "      <td>0.253544</td>\n",
       "      <td>0.252021</td>\n",
       "      <td>0.672245</td>\n",
       "      <td>0.230011</td>\n",
       "      <td>0.325953</td>\n",
       "    </tr>\n",
       "    <tr>\n",
       "      <th>4</th>\n",
       "      <td>0.235726</td>\n",
       "      <td>0.358928</td>\n",
       "      <td>0.584093</td>\n",
       "      <td>0.257428</td>\n",
       "      <td>0.320214</td>\n",
       "      <td>0.242216</td>\n",
       "      <td>0.252680</td>\n",
       "      <td>0.583553</td>\n",
       "      <td>0.331218</td>\n",
       "      <td>0.407277</td>\n",
       "      <td>0.253544</td>\n",
       "      <td>0.252021</td>\n",
       "      <td>0.672245</td>\n",
       "      <td>0.230011</td>\n",
       "      <td>0.325953</td>\n",
       "      <td>0.247083</td>\n",
       "      <td>0.225428</td>\n",
       "      <td>0.741580</td>\n",
       "      <td>0.168750</td>\n",
       "      <td>0.332437</td>\n",
       "    </tr>\n",
       "    <tr>\n",
       "      <th>5</th>\n",
       "      <td>0.242216</td>\n",
       "      <td>0.252680</td>\n",
       "      <td>0.583553</td>\n",
       "      <td>0.331218</td>\n",
       "      <td>0.407277</td>\n",
       "      <td>0.253544</td>\n",
       "      <td>0.252021</td>\n",
       "      <td>0.672245</td>\n",
       "      <td>0.230011</td>\n",
       "      <td>0.325953</td>\n",
       "      <td>0.247083</td>\n",
       "      <td>0.225428</td>\n",
       "      <td>0.741580</td>\n",
       "      <td>0.168750</td>\n",
       "      <td>0.332437</td>\n",
       "      <td>0.241931</td>\n",
       "      <td>0.476964</td>\n",
       "      <td>0.655927</td>\n",
       "      <td>0.094118</td>\n",
       "      <td>0.175911</td>\n",
       "    </tr>\n",
       "    <tr>\n",
       "      <th>6</th>\n",
       "      <td>0.253544</td>\n",
       "      <td>0.252021</td>\n",
       "      <td>0.672245</td>\n",
       "      <td>0.230011</td>\n",
       "      <td>0.325953</td>\n",
       "      <td>0.247083</td>\n",
       "      <td>0.225428</td>\n",
       "      <td>0.741580</td>\n",
       "      <td>0.168750</td>\n",
       "      <td>0.332437</td>\n",
       "      <td>0.241931</td>\n",
       "      <td>0.476964</td>\n",
       "      <td>0.655927</td>\n",
       "      <td>0.094118</td>\n",
       "      <td>0.175911</td>\n",
       "      <td>0.238058</td>\n",
       "      <td>0.293678</td>\n",
       "      <td>0.596790</td>\n",
       "      <td>0.287858</td>\n",
       "      <td>0.354919</td>\n",
       "    </tr>\n",
       "    <tr>\n",
       "      <th>7</th>\n",
       "      <td>0.247083</td>\n",
       "      <td>0.225428</td>\n",
       "      <td>0.741580</td>\n",
       "      <td>0.168750</td>\n",
       "      <td>0.332437</td>\n",
       "      <td>0.241931</td>\n",
       "      <td>0.476964</td>\n",
       "      <td>0.655927</td>\n",
       "      <td>0.094118</td>\n",
       "      <td>0.175911</td>\n",
       "      <td>0.238058</td>\n",
       "      <td>0.293678</td>\n",
       "      <td>0.596790</td>\n",
       "      <td>0.287858</td>\n",
       "      <td>0.354919</td>\n",
       "      <td>0.239796</td>\n",
       "      <td>0.281384</td>\n",
       "      <td>0.564909</td>\n",
       "      <td>0.332806</td>\n",
       "      <td>0.382013</td>\n",
       "    </tr>\n",
       "  </tbody>\n",
       "</table>\n",
       "</div>"
      ],
      "text/plain": [
       "   var1(t-3)  var2(t-3)  var3(t-3)  var4(t-3)  var5(t-3)  var1(t-2)  \\\n",
       "3   0.227358   0.000000   0.550507   0.542544   0.578338   0.235726   \n",
       "4   0.235726   0.358928   0.584093   0.257428   0.320214   0.242216   \n",
       "5   0.242216   0.252680   0.583553   0.331218   0.407277   0.253544   \n",
       "6   0.253544   0.252021   0.672245   0.230011   0.325953   0.247083   \n",
       "7   0.247083   0.225428   0.741580   0.168750   0.332437   0.241931   \n",
       "\n",
       "   var2(t-2)  var3(t-2)  var4(t-2)  var5(t-2)  var1(t-1)  var2(t-1)  \\\n",
       "3   0.358928   0.584093   0.257428   0.320214   0.242216   0.252680   \n",
       "4   0.252680   0.583553   0.331218   0.407277   0.253544   0.252021   \n",
       "5   0.252021   0.672245   0.230011   0.325953   0.247083   0.225428   \n",
       "6   0.225428   0.741580   0.168750   0.332437   0.241931   0.476964   \n",
       "7   0.476964   0.655927   0.094118   0.175911   0.238058   0.293678   \n",
       "\n",
       "   var3(t-1)  var4(t-1)  var5(t-1)   var1(t)   var2(t)   var3(t)   var4(t)  \\\n",
       "3   0.583553   0.331218   0.407277  0.253544  0.252021  0.672245  0.230011   \n",
       "4   0.672245   0.230011   0.325953  0.247083  0.225428  0.741580  0.168750   \n",
       "5   0.741580   0.168750   0.332437  0.241931  0.476964  0.655927  0.094118   \n",
       "6   0.655927   0.094118   0.175911  0.238058  0.293678  0.596790  0.287858   \n",
       "7   0.596790   0.287858   0.354919  0.239796  0.281384  0.564909  0.332806   \n",
       "\n",
       "    var5(t)  \n",
       "3  0.325953  \n",
       "4  0.332437  \n",
       "5  0.175911  \n",
       "6  0.354919  \n",
       "7  0.382013  "
      ]
     },
     "execution_count": 62,
     "metadata": {},
     "output_type": "execute_result"
    }
   ],
   "source": [
    "reframed = series_to_supervised(scaled, n_hours, 1)\n",
    "reframed.head()"
   ]
  },
  {
   "cell_type": "code",
   "execution_count": 63,
   "metadata": {
    "ExecuteTime": {
     "end_time": "2021-08-15T23:06:05.009496Z",
     "start_time": "2021-08-15T23:06:04.988064Z"
    }
   },
   "outputs": [
    {
     "data": {
      "text/html": [
       "<div>\n",
       "<style scoped>\n",
       "    .dataframe tbody tr th:only-of-type {\n",
       "        vertical-align: middle;\n",
       "    }\n",
       "\n",
       "    .dataframe tbody tr th {\n",
       "        vertical-align: top;\n",
       "    }\n",
       "\n",
       "    .dataframe thead th {\n",
       "        text-align: right;\n",
       "    }\n",
       "</style>\n",
       "<table border=\"1\" class=\"dataframe\">\n",
       "  <thead>\n",
       "    <tr style=\"text-align: right;\">\n",
       "      <th></th>\n",
       "      <th>var1(t-3)</th>\n",
       "      <th>var2(t-3)</th>\n",
       "      <th>var3(t-3)</th>\n",
       "      <th>var4(t-3)</th>\n",
       "      <th>var5(t-3)</th>\n",
       "      <th>var1(t-2)</th>\n",
       "      <th>var2(t-2)</th>\n",
       "      <th>var3(t-2)</th>\n",
       "      <th>var4(t-2)</th>\n",
       "      <th>var5(t-2)</th>\n",
       "      <th>var1(t-1)</th>\n",
       "      <th>var2(t-1)</th>\n",
       "      <th>var3(t-1)</th>\n",
       "      <th>var4(t-1)</th>\n",
       "      <th>var5(t-1)</th>\n",
       "      <th>var1(t)</th>\n",
       "    </tr>\n",
       "  </thead>\n",
       "  <tbody>\n",
       "    <tr>\n",
       "      <th>3</th>\n",
       "      <td>0.227358</td>\n",
       "      <td>0.000000</td>\n",
       "      <td>0.550507</td>\n",
       "      <td>0.542544</td>\n",
       "      <td>0.578338</td>\n",
       "      <td>0.235726</td>\n",
       "      <td>0.358928</td>\n",
       "      <td>0.584093</td>\n",
       "      <td>0.257428</td>\n",
       "      <td>0.320214</td>\n",
       "      <td>0.242216</td>\n",
       "      <td>0.252680</td>\n",
       "      <td>0.583553</td>\n",
       "      <td>0.331218</td>\n",
       "      <td>0.407277</td>\n",
       "      <td>0.253544</td>\n",
       "    </tr>\n",
       "    <tr>\n",
       "      <th>4</th>\n",
       "      <td>0.235726</td>\n",
       "      <td>0.358928</td>\n",
       "      <td>0.584093</td>\n",
       "      <td>0.257428</td>\n",
       "      <td>0.320214</td>\n",
       "      <td>0.242216</td>\n",
       "      <td>0.252680</td>\n",
       "      <td>0.583553</td>\n",
       "      <td>0.331218</td>\n",
       "      <td>0.407277</td>\n",
       "      <td>0.253544</td>\n",
       "      <td>0.252021</td>\n",
       "      <td>0.672245</td>\n",
       "      <td>0.230011</td>\n",
       "      <td>0.325953</td>\n",
       "      <td>0.247083</td>\n",
       "    </tr>\n",
       "    <tr>\n",
       "      <th>5</th>\n",
       "      <td>0.242216</td>\n",
       "      <td>0.252680</td>\n",
       "      <td>0.583553</td>\n",
       "      <td>0.331218</td>\n",
       "      <td>0.407277</td>\n",
       "      <td>0.253544</td>\n",
       "      <td>0.252021</td>\n",
       "      <td>0.672245</td>\n",
       "      <td>0.230011</td>\n",
       "      <td>0.325953</td>\n",
       "      <td>0.247083</td>\n",
       "      <td>0.225428</td>\n",
       "      <td>0.741580</td>\n",
       "      <td>0.168750</td>\n",
       "      <td>0.332437</td>\n",
       "      <td>0.241931</td>\n",
       "    </tr>\n",
       "    <tr>\n",
       "      <th>6</th>\n",
       "      <td>0.253544</td>\n",
       "      <td>0.252021</td>\n",
       "      <td>0.672245</td>\n",
       "      <td>0.230011</td>\n",
       "      <td>0.325953</td>\n",
       "      <td>0.247083</td>\n",
       "      <td>0.225428</td>\n",
       "      <td>0.741580</td>\n",
       "      <td>0.168750</td>\n",
       "      <td>0.332437</td>\n",
       "      <td>0.241931</td>\n",
       "      <td>0.476964</td>\n",
       "      <td>0.655927</td>\n",
       "      <td>0.094118</td>\n",
       "      <td>0.175911</td>\n",
       "      <td>0.238058</td>\n",
       "    </tr>\n",
       "    <tr>\n",
       "      <th>7</th>\n",
       "      <td>0.247083</td>\n",
       "      <td>0.225428</td>\n",
       "      <td>0.741580</td>\n",
       "      <td>0.168750</td>\n",
       "      <td>0.332437</td>\n",
       "      <td>0.241931</td>\n",
       "      <td>0.476964</td>\n",
       "      <td>0.655927</td>\n",
       "      <td>0.094118</td>\n",
       "      <td>0.175911</td>\n",
       "      <td>0.238058</td>\n",
       "      <td>0.293678</td>\n",
       "      <td>0.596790</td>\n",
       "      <td>0.287858</td>\n",
       "      <td>0.354919</td>\n",
       "      <td>0.239796</td>\n",
       "    </tr>\n",
       "  </tbody>\n",
       "</table>\n",
       "</div>"
      ],
      "text/plain": [
       "   var1(t-3)  var2(t-3)  var3(t-3)  var4(t-3)  var5(t-3)  var1(t-2)  \\\n",
       "3   0.227358   0.000000   0.550507   0.542544   0.578338   0.235726   \n",
       "4   0.235726   0.358928   0.584093   0.257428   0.320214   0.242216   \n",
       "5   0.242216   0.252680   0.583553   0.331218   0.407277   0.253544   \n",
       "6   0.253544   0.252021   0.672245   0.230011   0.325953   0.247083   \n",
       "7   0.247083   0.225428   0.741580   0.168750   0.332437   0.241931   \n",
       "\n",
       "   var2(t-2)  var3(t-2)  var4(t-2)  var5(t-2)  var1(t-1)  var2(t-1)  \\\n",
       "3   0.358928   0.584093   0.257428   0.320214   0.242216   0.252680   \n",
       "4   0.252680   0.583553   0.331218   0.407277   0.253544   0.252021   \n",
       "5   0.252021   0.672245   0.230011   0.325953   0.247083   0.225428   \n",
       "6   0.225428   0.741580   0.168750   0.332437   0.241931   0.476964   \n",
       "7   0.476964   0.655927   0.094118   0.175911   0.238058   0.293678   \n",
       "\n",
       "   var3(t-1)  var4(t-1)  var5(t-1)   var1(t)  \n",
       "3   0.583553   0.331218   0.407277  0.253544  \n",
       "4   0.672245   0.230011   0.325953  0.247083  \n",
       "5   0.741580   0.168750   0.332437  0.241931  \n",
       "6   0.655927   0.094118   0.175911  0.238058  \n",
       "7   0.596790   0.287858   0.354919  0.239796  "
      ]
     },
     "execution_count": 63,
     "metadata": {},
     "output_type": "execute_result"
    }
   ],
   "source": [
    "reframed = reframed.drop(reframed.columns[-4:], axis=1)\n",
    "reframed.head()"
   ]
  },
  {
   "cell_type": "code",
   "execution_count": 64,
   "metadata": {
    "ExecuteTime": {
     "end_time": "2021-08-15T23:06:09.075413Z",
     "start_time": "2021-08-15T23:06:09.068783Z"
    }
   },
   "outputs": [
    {
     "data": {
      "text/plain": [
       "(3000, 16)"
      ]
     },
     "execution_count": 64,
     "metadata": {},
     "output_type": "execute_result"
    }
   ],
   "source": [
    "values = reframed.values\n",
    "n_train_hours = 3000\n",
    "train = values[:n_train_hours, :]\n",
    "test = values[n_train_hours:, :]\n",
    "train.shape"
   ]
  },
  {
   "cell_type": "code",
   "execution_count": 65,
   "metadata": {
    "ExecuteTime": {
     "end_time": "2021-08-15T23:06:11.978512Z",
     "start_time": "2021-08-15T23:06:11.973964Z"
    }
   },
   "outputs": [],
   "source": [
    "# split into input and outputs\n",
    "train_X, train_y = train[:, :n_obs], train[:, -n_features]\n",
    "test_X, test_y = test[:, :n_obs], test[:, -n_features]"
   ]
  },
  {
   "cell_type": "code",
   "execution_count": 66,
   "metadata": {
    "ExecuteTime": {
     "end_time": "2021-08-15T23:06:13.652188Z",
     "start_time": "2021-08-15T23:06:13.646105Z"
    }
   },
   "outputs": [
    {
     "name": "stdout",
     "output_type": "stream",
     "text": [
      "(3000, 3, 5) (3000,) (722, 3, 5) (722,)\n"
     ]
    }
   ],
   "source": [
    "# reshape input to be 3D [samples, timesteps, features]\n",
    "train_X = train_X.reshape((train_X.shape[0], n_hours, n_features))\n",
    "test_X = test_X.reshape((test_X.shape[0], n_hours, n_features))\n",
    "print(train_X.shape, train_y.shape, test_X.shape, test_y.shape)"
   ]
  },
  {
   "cell_type": "code",
   "execution_count": 67,
   "metadata": {
    "ExecuteTime": {
     "end_time": "2021-08-15T23:06:41.914000Z",
     "start_time": "2021-08-15T23:06:17.592147Z"
    },
    "scrolled": false
   },
   "outputs": [
    {
     "name": "stdout",
     "output_type": "stream",
     "text": [
      "Train on 3000 samples, validate on 722 samples\n",
      "Epoch 1/20\n",
      " - 2s - loss: 0.0430 - val_loss: 0.0491\n",
      "Epoch 2/20\n",
      " - 1s - loss: 0.0309 - val_loss: 0.0443\n",
      "Epoch 3/20\n",
      " - 1s - loss: 0.0267 - val_loss: 0.0413\n",
      "Epoch 4/20\n",
      " - 1s - loss: 0.0249 - val_loss: 0.0392\n",
      "Epoch 5/20\n",
      " - 1s - loss: 0.0231 - val_loss: 0.0370\n",
      "Epoch 6/20\n",
      " - 1s - loss: 0.0214 - val_loss: 0.0352\n",
      "Epoch 7/20\n",
      " - 1s - loss: 0.0197 - val_loss: 0.0335\n",
      "Epoch 8/20\n",
      " - 1s - loss: 0.0179 - val_loss: 0.0333\n",
      "Epoch 9/20\n",
      " - 1s - loss: 0.0155 - val_loss: 0.0297\n",
      "Epoch 10/20\n",
      " - 1s - loss: 0.0141 - val_loss: 0.0240\n",
      "Epoch 11/20\n",
      " - 1s - loss: 0.0127 - val_loss: 0.0206\n",
      "Epoch 12/20\n",
      " - 1s - loss: 0.0106 - val_loss: 0.0175\n",
      "Epoch 13/20\n",
      " - 1s - loss: 0.0073 - val_loss: 0.0143\n",
      "Epoch 14/20\n",
      " - 1s - loss: 0.0059 - val_loss: 0.0117\n",
      "Epoch 15/20\n",
      " - 1s - loss: 0.0053 - val_loss: 0.0109\n",
      "Epoch 16/20\n",
      " - 1s - loss: 0.0052 - val_loss: 0.0112\n",
      "Epoch 17/20\n",
      " - 1s - loss: 0.0050 - val_loss: 0.0113\n",
      "Epoch 18/20\n",
      " - 1s - loss: 0.0045 - val_loss: 0.0091\n",
      "Epoch 19/20\n",
      " - 1s - loss: 0.0044 - val_loss: 0.0108\n",
      "Epoch 20/20\n",
      " - 1s - loss: 0.0047 - val_loss: 0.0134\n"
     ]
    }
   ],
   "source": [
    "# design network\n",
    "model = Sequential()\n",
    "model.add(LSTM(5, input_shape=(train_X.shape[1], train_X.shape[2])))\n",
    "model.add(Dense(1))\n",
    "model.compile(loss='mae', optimizer='adam')\n",
    "# fit network\n",
    "history = model.fit(train_X, train_y, epochs=20, batch_size=4, validation_data=(test_X, test_y), verbose=2, shuffle=False)\n",
    "# plot history"
   ]
  },
  {
   "cell_type": "code",
   "execution_count": 68,
   "metadata": {
    "ExecuteTime": {
     "end_time": "2021-08-15T23:06:45.333230Z",
     "start_time": "2021-08-15T23:06:45.175863Z"
    }
   },
   "outputs": [
    {
     "data": {
      "image/png": "[encoded data removed]",
      "text/plain": [
       "<Figure size 432x288 with 1 Axes>"
      ]
     },
     "metadata": {
      "needs_background": "light"
     },
     "output_type": "display_data"
    }
   ],
   "source": [
    "plt.plot(history.history['loss'], label='train')\n",
    "plt.plot(history.history['val_loss'], label='test')\n",
    "plt.legend()\n",
    "plt.show()"
   ]
  },
  {
   "cell_type": "code",
   "execution_count": 69,
   "metadata": {
    "ExecuteTime": {
     "end_time": "2021-08-15T23:06:51.225287Z",
     "start_time": "2021-08-15T23:06:51.108133Z"
    }
   },
   "outputs": [
    {
     "name": "stdout",
     "output_type": "stream",
     "text": [
      "Test RMSE: 618.573\n"
     ]
    }
   ],
   "source": [
    "# make a prediction\n",
    "yhat = model.predict(test_X)\n",
    "test_X = test_X.reshape((test_X.shape[0], n_hours* n_features))\n",
    "# invert scaling for forecast\n",
    "inv_yhat = np.concatenate((yhat, test_X[:, -4:]), axis=1)\n",
    "inv_yhat = scaler.inverse_transform(inv_yhat)\n",
    "inv_yhat = inv_yhat[:,0]\n",
    "# invert scaling for actual\n",
    "test_y = test_y.reshape((len(test_y), 1))\n",
    "inv_y = np.concatenate((test_y, test_X[:, -4:]), axis=1)\n",
    "inv_y = scaler.inverse_transform(inv_y)\n",
    "inv_y = inv_y[:,0]\n",
    "# calculate RMSE\n",
    "rmse = np.sqrt(mean_squared_error(inv_y, inv_yhat))\n",
    "print('Test RMSE: %.3f' % rmse)"
   ]
  },
  {
   "cell_type": "code",
   "execution_count": 70,
   "metadata": {
    "ExecuteTime": {
     "end_time": "2021-08-15T23:06:53.774746Z",
     "start_time": "2021-08-15T23:06:53.608215Z"
    }
   },
   "outputs": [
    {
     "data": {
      "text/plain": [
       "[<matplotlib.lines.Line2D at 0x7fd734401550>]"
      ]
     },
     "execution_count": 70,
     "metadata": {},
     "output_type": "execute_result"
    },
    {
     "data": {
      "image/png": "[encoded data removed]",
      "text/plain": [
       "<Figure size 432x288 with 1 Axes>"
      ]
     },
     "metadata": {
      "needs_background": "light"
     },
     "output_type": "display_data"
    }
   ],
   "source": [
    "plt.plot(inv_y)\n",
    "plt.plot(inv_yhat)"
   ]
  },
  {
   "cell_type": "code",
   "execution_count": 71,
   "metadata": {
    "ExecuteTime": {
     "end_time": "2021-08-15T23:07:03.990712Z",
     "start_time": "2021-08-15T23:07:03.987162Z"
    }
   },
   "outputs": [],
   "source": [
    "plt.show()"
   ]
  },
  {
   "cell_type": "code",
   "execution_count": 72,
   "metadata": {
    "ExecuteTime": {
     "end_time": "2021-08-15T23:07:07.237702Z",
     "start_time": "2021-08-15T23:07:07.232390Z"
    }
   },
   "outputs": [
    {
     "data": {
      "text/plain": [
       "(722,)"
      ]
     },
     "execution_count": 72,
     "metadata": {},
     "output_type": "execute_result"
    }
   ],
   "source": [
    "inv_yhat.shape"
   ]
  },
  {
   "cell_type": "code",
   "execution_count": 73,
   "metadata": {
    "ExecuteTime": {
     "end_time": "2021-08-15T23:07:13.042452Z",
     "start_time": "2021-08-15T23:07:13.015321Z"
    }
   },
   "outputs": [],
   "source": [
    "df_sol = pd.DataFrame({'forecast':inv_yhat,'actual':inv_y})\n",
    "df_sol.to_csv('Predictions_nosent.csv')"
   ]
  }
 ],
 "metadata": {
  "hide_input": false,
  "kernelspec": {
   "display_name": "Python 3 (ipykernel)",
   "language": "python",
   "name": "python3"
  },
  "language_info": {
   "codemirror_mode": {
    "name": "ipython",
    "version": 3
   },
   "file_extension": ".py",
   "mimetype": "text/x-python",
   "name": "python",
   "nbconvert_exporter": "python",
   "pygments_lexer": "ipython3",
   "version": "3.9.6"
  },
  "latex_envs": {
   "LaTeX_envs_menu_present": true,
   "autoclose": true,
   "autocomplete": true,
   "bibliofile": "",
   "cite_by": "apalike",
   "current_citInitial": 1,
   "eqLabelWithNumbers": false,
   "eqNumInitial": 1,
   "hotkeys": {
    "equation": "Ctrl-E",
    "itemize": "Ctrl-I"
   },
   "labels_anchors": false,
   "latex_user_defs": false,
   "report_style_numbering": false,
   "user_envs_cfg": false
  },
  "toc": {
   "base_numbering": 1,
   "nav_menu": {},
   "number_sections": false,
   "sideBar": true,
   "skip_h1_title": true,
   "title_cell": "Table of Contents",
   "title_sidebar": "Contents",
   "toc_cell": false,
   "toc_position": {},
   "toc_section_display": true,
   "toc_window_display": false
  },
  "varInspector": {
   "cols": {
    "lenName": 16,
    "lenType": 16,
    "lenVar": 40
   },
   "kernels_config": {
    "python": {
     "delete_cmd_postfix": "",
     "delete_cmd_prefix": "del ",
     "library": "var_list.py",
     "varRefreshCmd": "print(var_dic_list())"
    },
    "r": {
     "delete_cmd_postfix": ") ",
     "delete_cmd_prefix": "rm(",
     "library": "var_list.r",
     "varRefreshCmd": "cat(var_dic_list()) "
    }
   },
   "types_to_exclude": [
    "module",
    "function",
    "builtin_function_or_method",
    "instance",
    "_Feature"
   ],
   "window_display": false
  }
 },
 "nbformat": 4,
 "nbformat_minor": 2
}
