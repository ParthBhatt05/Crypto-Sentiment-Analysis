{
 "cells": [
  {
   "cell_type": "code",
   "execution_count": 1,
   "id": "2b5f7fda",
   "metadata": {
    "ExecuteTime": {
     "end_time": "2021-08-15T21:41:03.691646Z",
     "start_time": "2021-08-15T21:41:02.360588Z"
    }
   },
   "outputs": [],
   "source": [
    "import pandas as pd\n",
    "import matplotlib.pyplot as plt\n",
    "import seaborn as sns"
   ]
  },
  {
   "cell_type": "code",
   "execution_count": 2,
   "id": "797bcebb",
   "metadata": {
    "ExecuteTime": {
     "end_time": "2021-08-15T21:41:05.856588Z",
     "start_time": "2021-08-15T21:41:03.695633Z"
    }
   },
   "outputs": [
    {
     "name": "stderr",
     "output_type": "stream",
     "text": [
      "c:\\python\\python39\\lib\\site-packages\\IPython\\core\\interactiveshell.py:3441: DtypeWarning: Columns (2) have mixed types.Specify dtype option on import or set low_memory=False.\n",
      "  exec(code_obj, self.user_global_ns, self.user_ns)\n"
     ]
    }
   ],
   "source": [
    "bitcoin_tweets_df = pd.read_csv('Data/tweets/bitcoin_tweets_cleaned_sent.csv', encoding='ascii', parse_dates=True)"
   ]
  },
  {
   "cell_type": "code",
   "execution_count": 3,
   "id": "b5d2984d",
   "metadata": {
    "ExecuteTime": {
     "end_time": "2021-08-15T21:41:06.380635Z",
     "start_time": "2021-08-15T21:41:05.858590Z"
    }
   },
   "outputs": [],
   "source": [
    "bitcoin_tweets_df['date'] = pd.to_datetime(bitcoin_tweets_df['date'])"
   ]
  },
  {
   "cell_type": "code",
   "execution_count": 4,
   "id": "f47dbbe5",
   "metadata": {
    "ExecuteTime": {
     "end_time": "2021-08-15T21:41:06.444634Z",
     "start_time": "2021-08-15T21:41:06.381622Z"
    }
   },
   "outputs": [],
   "source": [
    "bitcoin_tweets_df = bitcoin_tweets_df.drop([\"text\",\"is_retweet\", \"sentiment\"],axis =1)"
   ]
  },
  {
   "cell_type": "code",
   "execution_count": 5,
   "id": "ee894568",
   "metadata": {
    "ExecuteTime": {
     "end_time": "2021-08-15T21:41:06.475796Z",
     "start_time": "2021-08-15T21:41:06.445622Z"
    }
   },
   "outputs": [],
   "source": [
    "bitcoin_tweets_df.set_index(bitcoin_tweets_df[\"date\"],inplace=True)\n",
    "bitcoin_tweets_df = bitcoin_tweets_df.drop([\"date\"],axis =1)"
   ]
  },
  {
   "cell_type": "code",
   "execution_count": 6,
   "id": "359612bd",
   "metadata": {
    "ExecuteTime": {
     "end_time": "2021-08-15T21:41:06.491770Z",
     "start_time": "2021-08-15T21:41:06.476627Z"
    }
   },
   "outputs": [],
   "source": [
    "var_list=['subjectivity', 'polarity', 'vader_compound', 'vader_pos', 'vader_neg','vader_neu', 'afinn_score']"
   ]
  },
  {
   "cell_type": "code",
   "execution_count": 7,
   "id": "96e9b732",
   "metadata": {
    "ExecuteTime": {
     "end_time": "2021-08-15T21:41:06.585787Z",
     "start_time": "2021-08-15T21:41:06.492622Z"
    }
   },
   "outputs": [],
   "source": [
    "bitcoin_tweets_df_hour = bitcoin_tweets_df.resample('H').mean()\n",
    "bitcoin_tweets_df_day = bitcoin_tweets_df.resample('D').mean()"
   ]
  },
  {
   "cell_type": "code",
   "execution_count": 8,
   "id": "7b347652",
   "metadata": {
    "ExecuteTime": {
     "end_time": "2021-08-15T21:41:06.601623Z",
     "start_time": "2021-08-15T21:41:06.586625Z"
    }
   },
   "outputs": [],
   "source": [
    "bitcoin_tweets_df_day_cleaned=bitcoin_tweets_df_day.fillna(bitcoin_tweets_df_day.rolling(7,min_periods=1).mean())\n",
    "bitcoin_tweets_df_day_cleaned[var_list] = bitcoin_tweets_df_day_cleaned[var_list].fillna(value=bitcoin_tweets_df_day_cleaned[var_list].mean())\n",
    "bitcoin_tweets_df_hour_cleaned=bitcoin_tweets_df_hour.fillna(bitcoin_tweets_df_hour.rolling(168,min_periods=1).mean())\n",
    "bitcoin_tweets_df_hour_cleaned[var_list] = bitcoin_tweets_df_hour_cleaned[var_list].fillna(value=bitcoin_tweets_df_hour_cleaned[var_list].mean())"
   ]
  },
  {
   "cell_type": "code",
   "execution_count": 9,
   "id": "1d49c4a5",
   "metadata": {
    "ExecuteTime": {
     "end_time": "2021-08-15T21:41:06.616795Z",
     "start_time": "2021-08-15T21:41:06.602590Z"
    }
   },
   "outputs": [],
   "source": [
    "def effectivesentiment(x):\n",
    "    if x > 0:\n",
    "        y = 1\n",
    "    elif x < 0:\n",
    "        y = -1\n",
    "    else:\n",
    "        y = 0\n",
    "    return y"
   ]
  },
  {
   "cell_type": "code",
   "execution_count": 10,
   "id": "4e73eb0e",
   "metadata": {
    "ExecuteTime": {
     "end_time": "2021-08-15T21:41:06.632145Z",
     "start_time": "2021-08-15T21:41:06.617590Z"
    }
   },
   "outputs": [],
   "source": [
    "def agg_sentiment(x):\n",
    "    \n",
    "    y = 0\n",
    "    \n",
    "    if x[0] + x[1] + x[2] >0:\n",
    "        y=1\n",
    "    \n",
    "    elif x[0] + x[1] + x[2] <0:\n",
    "        y=-1\n",
    "    \n",
    "    else:\n",
    "        y=0\n",
    "    \n",
    "    return y"
   ]
  },
  {
   "cell_type": "code",
   "execution_count": 11,
   "id": "1b621aa2",
   "metadata": {
    "ExecuteTime": {
     "end_time": "2021-08-15T21:41:06.648167Z",
     "start_time": "2021-08-15T21:41:06.632945Z"
    }
   },
   "outputs": [],
   "source": [
    "def applyfunctions(df):\n",
    "    x = df[\"vader_pos\"] > df[\"vader_neg\"]# filtering only posive rows neglecting negative and neutral ones\n",
    "    y = df[\"vader_pos\"] < df[\"vader_neg\"]# filtering only negative rows neglecting positive and neutral ones\n",
    "\n",
    "    df[\"effective_polarity\"] = df[\"polarity\"].apply(effectivesentiment)\n",
    "    df[\"effective_afinn\"] = df[\"polarity\"].apply(effectivesentiment)\n",
    "    df[\"effective_vader\"] = 0 #intialize all with zeros and neutral tweets gets automatically zero\n",
    "    df.loc[x,\"effective_vader\"] = 1\n",
    "    df.loc[y,\"effective_vader\"] = -1\n",
    "    df['agg'] = df[['effective_afinn',\"effective_polarity\", \"effective_vader\"]].values.tolist()\n",
    "    df[\"agg_sentiment_polarity\"] = df['agg'].apply(agg_sentiment)\n",
    "    df = df.drop([\"agg\"],axis =1)\n",
    "    return df"
   ]
  },
  {
   "cell_type": "code",
   "execution_count": 12,
   "id": "c1f329a1",
   "metadata": {
    "ExecuteTime": {
     "end_time": "2021-08-15T21:41:08.141392Z",
     "start_time": "2021-08-15T21:41:06.651199Z"
    }
   },
   "outputs": [],
   "source": [
    "bitcoin_tweets_df, bitcoin_tweets_df_hour_cleaned, bitcoin_tweets_df_day_cleaned = applyfunctions(bitcoin_tweets_df), applyfunctions(bitcoin_tweets_df_hour_cleaned),applyfunctions(bitcoin_tweets_df_day_cleaned)"
   ]
  },
  {
   "cell_type": "code",
   "execution_count": 14,
   "id": "bae6fb70",
   "metadata": {
    "ExecuteTime": {
     "end_time": "2021-08-15T21:41:20.948476Z",
     "start_time": "2021-08-15T21:41:20.860300Z"
    }
   },
   "outputs": [],
   "source": [
    "bitcoin_tweets_df_hour_agg = bitcoin_tweets_df.resample('H').mean()\n",
    "bitcoin_tweets_df_day_agg = bitcoin_tweets_df.resample('D').mean()"
   ]
  },
  {
   "cell_type": "code",
   "execution_count": 15,
   "id": "394dadb8",
   "metadata": {
    "ExecuteTime": {
     "end_time": "2021-08-15T21:41:20.964469Z",
     "start_time": "2021-08-15T21:41:20.950264Z"
    }
   },
   "outputs": [],
   "source": [
    "var_list=['subjectivity', 'polarity', 'vader_compound', 'vader_pos', 'vader_neg',\n",
    "       'vader_neu', 'afinn_score', 'effective_polarity', 'effective_afinn',\n",
    "       'effective_vader', 'agg_sentiment_polarity']"
   ]
  },
  {
   "cell_type": "code",
   "execution_count": 17,
   "id": "aae2c00c",
   "metadata": {
    "ExecuteTime": {
     "end_time": "2021-08-15T21:42:17.702752Z",
     "start_time": "2021-08-15T21:42:17.675328Z"
    }
   },
   "outputs": [],
   "source": [
    "bitcoin_tweets_df_day_agg_cleaned=bitcoin_tweets_df_day_agg.fillna(bitcoin_tweets_df_day_agg.rolling(7,min_periods=1).mean())\n",
    "bitcoin_tweets_df_day_agg_cleaned[var_list] = bitcoin_tweets_df_day_agg_cleaned[var_list].fillna(value=bitcoin_tweets_df_day_agg_cleaned[var_list].mean())\n",
    "bitcoin_tweets_df_hour_agg_cleaned=bitcoin_tweets_df_hour_agg.fillna(bitcoin_tweets_df_hour_agg.rolling(168,min_periods=1).mean())\n",
    "bitcoin_tweets_df_hour_agg_cleaned[var_list] = bitcoin_tweets_df_hour_agg_cleaned[var_list].fillna(value=bitcoin_tweets_df_hour_agg_cleaned[var_list].mean())"
   ]
  },
  {
   "cell_type": "code",
   "execution_count": 18,
   "id": "1aa1c8ce",
   "metadata": {
    "ExecuteTime": {
     "end_time": "2021-08-15T21:42:22.820758Z",
     "start_time": "2021-08-15T21:42:21.247711Z"
    }
   },
   "outputs": [],
   "source": [
    "btc_price_data = pd.read_csv('Data/prices/btcusd.csv')"
   ]
  },
  {
   "cell_type": "code",
   "execution_count": 19,
   "id": "b5bc3cf3",
   "metadata": {
    "ExecuteTime": {
     "end_time": "2021-08-15T21:42:23.816711Z",
     "start_time": "2021-08-15T21:42:23.010710Z"
    }
   },
   "outputs": [
    {
     "data": {
      "text/html": [
       "<div>\n",
       "<style scoped>\n",
       "    .dataframe tbody tr th:only-of-type {\n",
       "        vertical-align: middle;\n",
       "    }\n",
       "\n",
       "    .dataframe tbody tr th {\n",
       "        vertical-align: top;\n",
       "    }\n",
       "\n",
       "    .dataframe thead th {\n",
       "        text-align: right;\n",
       "    }\n",
       "</style>\n",
       "<table border=\"1\" class=\"dataframe\">\n",
       "  <thead>\n",
       "    <tr style=\"text-align: right;\">\n",
       "      <th></th>\n",
       "      <th>time</th>\n",
       "      <th>open</th>\n",
       "      <th>close</th>\n",
       "      <th>high</th>\n",
       "      <th>low</th>\n",
       "      <th>volume</th>\n",
       "      <th>date</th>\n",
       "      <th>hour</th>\n",
       "    </tr>\n",
       "  </thead>\n",
       "  <tbody>\n",
       "    <tr>\n",
       "      <th>0</th>\n",
       "      <td>2013-04-01 00:07:00</td>\n",
       "      <td>93.25</td>\n",
       "      <td>93.30</td>\n",
       "      <td>93.30</td>\n",
       "      <td>93.25</td>\n",
       "      <td>93.300000</td>\n",
       "      <td>2013-04-01</td>\n",
       "      <td>2013-04-01</td>\n",
       "    </tr>\n",
       "    <tr>\n",
       "      <th>1</th>\n",
       "      <td>2013-04-01 00:08:00</td>\n",
       "      <td>100.00</td>\n",
       "      <td>100.00</td>\n",
       "      <td>100.00</td>\n",
       "      <td>100.00</td>\n",
       "      <td>93.300000</td>\n",
       "      <td>2013-04-01</td>\n",
       "      <td>2013-04-01</td>\n",
       "    </tr>\n",
       "    <tr>\n",
       "      <th>2</th>\n",
       "      <td>2013-04-01 00:09:00</td>\n",
       "      <td>93.30</td>\n",
       "      <td>93.30</td>\n",
       "      <td>93.30</td>\n",
       "      <td>93.30</td>\n",
       "      <td>33.676862</td>\n",
       "      <td>2013-04-01</td>\n",
       "      <td>2013-04-01</td>\n",
       "    </tr>\n",
       "    <tr>\n",
       "      <th>3</th>\n",
       "      <td>2013-04-01 00:11:00</td>\n",
       "      <td>93.35</td>\n",
       "      <td>93.47</td>\n",
       "      <td>93.47</td>\n",
       "      <td>93.35</td>\n",
       "      <td>20.000000</td>\n",
       "      <td>2013-04-01</td>\n",
       "      <td>2013-04-01</td>\n",
       "    </tr>\n",
       "    <tr>\n",
       "      <th>4</th>\n",
       "      <td>2013-04-01 00:12:00</td>\n",
       "      <td>93.47</td>\n",
       "      <td>93.47</td>\n",
       "      <td>93.47</td>\n",
       "      <td>93.47</td>\n",
       "      <td>2.021627</td>\n",
       "      <td>2013-04-01</td>\n",
       "      <td>2013-04-01</td>\n",
       "    </tr>\n",
       "  </tbody>\n",
       "</table>\n",
       "</div>"
      ],
      "text/plain": [
       "                 time    open   close    high     low     volume        date  \\\n",
       "0 2013-04-01 00:07:00   93.25   93.30   93.30   93.25  93.300000  2013-04-01   \n",
       "1 2013-04-01 00:08:00  100.00  100.00  100.00  100.00  93.300000  2013-04-01   \n",
       "2 2013-04-01 00:09:00   93.30   93.30   93.30   93.30  33.676862  2013-04-01   \n",
       "3 2013-04-01 00:11:00   93.35   93.47   93.47   93.35  20.000000  2013-04-01   \n",
       "4 2013-04-01 00:12:00   93.47   93.47   93.47   93.47   2.021627  2013-04-01   \n",
       "\n",
       "        hour  \n",
       "0 2013-04-01  \n",
       "1 2013-04-01  \n",
       "2 2013-04-01  \n",
       "3 2013-04-01  \n",
       "4 2013-04-01  "
      ]
     },
     "execution_count": 19,
     "metadata": {},
     "output_type": "execute_result"
    }
   ],
   "source": [
    "btc_price_data['time'] = pd.to_datetime(btc_price_data['time'], unit='ms')\n",
    "btc_price_data['date'] = btc_price_data['time'].dt.date\n",
    "btc_price_data['hour'] = pd.to_datetime(btc_price_data['time']).dt.floor('H')\n",
    "btc_price_data.head()"
   ]
  },
  {
   "cell_type": "code",
   "execution_count": 20,
   "id": "60320d71",
   "metadata": {
    "ExecuteTime": {
     "end_time": "2021-08-15T21:42:28.799381Z",
     "start_time": "2021-08-15T21:42:26.494166Z"
    }
   },
   "outputs": [],
   "source": [
    "btc_daily_open_close = btc_price_data[['time','date']].groupby(['date']).time.agg([min,max]).reset_index()\n",
    "btc_daily_high=btc_price_data.groupby(['date']).high.agg(max).reset_index()\n",
    "btc_daily_low=btc_price_data.groupby(['date']).low.agg(min).reset_index()\n",
    "btc_daily_open_close.columns=['date','open_time','close_time']\n",
    "btc_daily_open = pd.merge(btc_daily_open_close, btc_price_data, left_on='open_time', right_on='time')[['date_x','open','volume']]\n",
    "btc_daily_close = pd.merge(btc_daily_open_close, btc_price_data, left_on='close_time', right_on='time')[['date_x','close','volume']]\n",
    "btc_daily_high_low = pd.merge(btc_daily_high, btc_daily_low, on='date')\n",
    "btc_daily_open_close = pd.merge(btc_daily_open, btc_daily_close, on='date_x')\n",
    "btc_daily_open_close.columns=['date','open','open_volume','close','close_volume']\n",
    "btc_daily=pd.merge(btc_daily_open_close, btc_daily_high_low, on='date')\n",
    "btc_daily['date'] = pd.to_datetime(btc_daily['date'])"
   ]
  },
  {
   "cell_type": "code",
   "execution_count": 21,
   "id": "502fb561",
   "metadata": {
    "ExecuteTime": {
     "end_time": "2021-08-15T21:42:50.230272Z",
     "start_time": "2021-08-15T21:42:50.213177Z"
    }
   },
   "outputs": [],
   "source": [
    "btc_daily_tweets = pd.merge(bitcoin_tweets_df_day_cleaned.reset_index(), bitcoin_tweets_df_day_agg_cleaned.reset_index(), on='date', suffixes=('_overall', '_aggregated'))"
   ]
  },
  {
   "cell_type": "code",
   "execution_count": 24,
   "id": "e6c87e4c",
   "metadata": {
    "ExecuteTime": {
     "end_time": "2021-08-15T21:43:19.517556Z",
     "start_time": "2021-08-15T21:43:19.510581Z"
    }
   },
   "outputs": [],
   "source": [
    "btc_daily_data=pd.merge(btc_daily, btc_daily_tweets, on='date').sort_values(by='date')"
   ]
  },
  {
   "cell_type": "code",
   "execution_count": 25,
   "id": "14bd2a6d",
   "metadata": {
    "ExecuteTime": {
     "end_time": "2021-08-15T21:43:24.188379Z",
     "start_time": "2021-08-15T21:43:22.262200Z"
    },
    "scrolled": false
   },
   "outputs": [],
   "source": [
    "btc_hourly_open_close = btc_price_data[['time','hour']].groupby(['hour']).time.agg([min,max]).reset_index()\n",
    "btc_hourly_high=btc_price_data.groupby(['hour']).high.agg(max).reset_index()\n",
    "btc_hourly_low=btc_price_data.groupby(['hour']).low.agg(min).reset_index()\n",
    "btc_hourly_open_close.columns=['hour','open_time','close_time']\n",
    "btc_hourly_open = pd.merge(btc_hourly_open_close, btc_price_data, left_on='open_time', right_on='time')[['hour_x','open','volume']]\n",
    "btc_hourly_close = pd.merge(btc_hourly_open_close, btc_price_data, left_on='close_time', right_on='time')[['hour_x','close','volume']]\n",
    "btc_hourly_high_low = pd.merge(btc_hourly_high, btc_hourly_low, on='hour')\n",
    "btc_hourly_open_close = pd.merge(btc_hourly_open, btc_hourly_close, on='hour_x')\n",
    "btc_hourly_open_close.columns=['hour','open','open_volume','close','close_volume']\n",
    "btc_hourly=pd.merge(btc_hourly_open_close, btc_hourly_high_low, on='hour')\n",
    "btc_hourly['hour'] = pd.to_datetime(btc_hourly['hour'])"
   ]
  },
  {
   "cell_type": "code",
   "execution_count": 26,
   "id": "cf47814b",
   "metadata": {
    "ExecuteTime": {
     "end_time": "2021-08-15T21:43:28.559288Z",
     "start_time": "2021-08-15T21:43:28.544253Z"
    }
   },
   "outputs": [],
   "source": [
    "btc_hourly_tweets = pd.merge(bitcoin_tweets_df_hour_cleaned.reset_index(), bitcoin_tweets_df_hour_agg_cleaned.reset_index(), on='date', suffixes=('_overall', '_aggregated'))"
   ]
  },
  {
   "cell_type": "code",
   "execution_count": 27,
   "id": "e23156d9",
   "metadata": {
    "ExecuteTime": {
     "end_time": "2021-08-15T21:43:31.467033Z",
     "start_time": "2021-08-15T21:43:31.463036Z"
    }
   },
   "outputs": [],
   "source": [
    "btc_hourly.columns=['date', 'open', 'open_volume', 'close', 'close_volume', 'high', 'low']"
   ]
  },
  {
   "cell_type": "code",
   "execution_count": 28,
   "id": "32b7f507",
   "metadata": {
    "ExecuteTime": {
     "end_time": "2021-08-15T21:43:34.214140Z",
     "start_time": "2021-08-15T21:43:34.187835Z"
    }
   },
   "outputs": [],
   "source": [
    "btc_hourly_data=pd.merge(btc_hourly, btc_hourly_tweets, on='date').sort_values(by='date')"
   ]
  },
  {
   "cell_type": "code",
   "execution_count": 29,
   "id": "9f379029",
   "metadata": {
    "ExecuteTime": {
     "end_time": "2021-08-15T21:43:36.668587Z",
     "start_time": "2021-08-15T21:43:36.549359Z"
    }
   },
   "outputs": [],
   "source": [
    "btc_daily_data.to_csv('Data/bitcoin_daily_price_sent.csv', header=True, index=False)\n",
    "btc_hourly_data.to_csv('Data/bitcoin_hourly_price_sent.csv', header=True, index=False)"
   ]
  },
  {
   "cell_type": "code",
   "execution_count": null,
   "id": "9e9fffa8",
   "metadata": {},
   "outputs": [],
   "source": []
  }
 ],
 "metadata": {
  "hide_input": false,
  "kernelspec": {
   "display_name": "Python 3 (ipykernel)",
   "language": "python",
   "name": "python3"
  },
  "language_info": {
   "codemirror_mode": {
    "name": "ipython",
    "version": 3
   },
   "file_extension": ".py",
   "mimetype": "text/x-python",
   "name": "python",
   "nbconvert_exporter": "python",
   "pygments_lexer": "ipython3",
   "version": "3.9.6"
  },
  "latex_envs": {
   "LaTeX_envs_menu_present": true,
   "autoclose": true,
   "autocomplete": true,
   "bibliofile": "",
   "cite_by": "apalike",
   "current_citInitial": 1,
   "eqLabelWithNumbers": false,
   "eqNumInitial": 1,
   "hotkeys": {
    "equation": "Ctrl-E",
    "itemize": "Ctrl-I"
   },
   "labels_anchors": false,
   "latex_user_defs": false,
   "report_style_numbering": false,
   "user_envs_cfg": false
  },
  "toc": {
   "base_numbering": 1,
   "nav_menu": {},
   "number_sections": false,
   "sideBar": true,
   "skip_h1_title": true,
   "title_cell": "Table of Contents",
   "title_sidebar": "Contents",
   "toc_cell": false,
   "toc_position": {},
   "toc_section_display": true,
   "toc_window_display": false
  },
  "varInspector": {
   "cols": {
    "lenName": 16,
    "lenType": 16,
    "lenVar": 40
   },
   "kernels_config": {
    "python": {
     "delete_cmd_postfix": "",
     "delete_cmd_prefix": "del ",
     "library": "var_list.py",
     "varRefreshCmd": "print(var_dic_list())"
    },
    "r": {
     "delete_cmd_postfix": ") ",
     "delete_cmd_prefix": "rm(",
     "library": "var_list.r",
     "varRefreshCmd": "cat(var_dic_list()) "
    }
   },
   "types_to_exclude": [
    "module",
    "function",
    "builtin_function_or_method",
    "instance",
    "_Feature"
   ],
   "window_display": false
  }
 },
 "nbformat": 4,
 "nbformat_minor": 5
}
