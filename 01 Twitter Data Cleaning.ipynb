{
 "cells": [
  {
   "cell_type": "code",
   "execution_count": null,
   "id": "b849b7f0",
   "metadata": {},
   "outputs": [],
   "source": [
    "import pandas as pd\n",
    "import warnings\n",
    "import numpy as np\n",
    "import re # regular expressions\n",
    "from tqdm import tnrange, tqdm_notebook, tqdm\n",
    "from textblob import TextBlob\n",
    "warnings.filterwarnings(\"ignore\")"
   ]
  },
  {
   "cell_type": "code",
   "execution_count": null,
   "id": "2858e19e",
   "metadata": {},
   "outputs": [],
   "source": [
    "bitcoin_tweets_df=pd.read_csv('Data/tweets/Bitcoin_tweets.csv')\n",
    "dogecoin_tweets_df=pd.read_csv('Data/tweets/Dogecoin_tweets.csv')"
   ]
  },
  {
   "cell_type": "code",
   "execution_count": null,
   "id": "c31ff67a",
   "metadata": {},
   "outputs": [],
   "source": [
    "bitcoin_tweets_df_min=bitcoin_tweets_df[['date','text','is_retweet']]\n",
    "dogecoin_tweets_df_min=dogecoin_tweets_df[['created_at','tweet','language','retweet']]"
   ]
  },
  {
   "cell_type": "code",
   "execution_count": null,
   "id": "f10209e5",
   "metadata": {},
   "outputs": [],
   "source": [
    "bitcoin_tweets_df_min['date']=pd.to_datetime(bitcoin_tweets_df_min['date'], format='%Y-%m-%d %H:%M:%S', errors='coerce')\n",
    "\n",
    "dogecoin_tweets_df_min['created_at'] = dogecoin_tweets_df_min['created_at'].str.split('+').str[0]\n",
    "dogecoin_tweets_df_min['created_at']=pd.to_datetime(dogecoin_tweets_df_min['created_at'], format='%Y-%m-%d %H:%M:%S', errors='coerce')"
   ]
  },
  {
   "cell_type": "code",
   "execution_count": null,
   "id": "dc29ca6b",
   "metadata": {},
   "outputs": [],
   "source": [
    "bitcoin_tweets_df_min = bitcoin_tweets_df_min.dropna(subset=['date'])\n",
    "dogecoin_tweets_df_min = dogecoin_tweets_df_min.dropna(subset=['created_at'])"
   ]
  },
  {
   "cell_type": "code",
   "execution_count": null,
   "id": "45d4bc9f",
   "metadata": {},
   "outputs": [],
   "source": [
    "dogecoin_tweets_df_min_eng=dogecoin_tweets_df_min.loc[dogecoin_tweets_df_min['language']=='en']\n",
    "dogecoin_tweets_df_min_eng=dogecoin_tweets_df_min_eng.drop(['language'], axis=1)\n",
    "dogecoin_tweets_df_min_oth=dogecoin_tweets_df_min.loc[dogecoin_tweets_df_min['language']!='en']"
   ]
  },
  {
   "cell_type": "code",
   "execution_count": null,
   "id": "838b965d",
   "metadata": {},
   "outputs": [],
   "source": [
    "dogecoin_tweets_df_min_eng.columns=['date', 'text', 'is_retweet']"
   ]
  },
  {
   "cell_type": "code",
   "execution_count": 14,
   "id": "cbb8ff29",
   "metadata": {
    "ExecuteTime": {
     "end_time": "2021-08-15T13:55:11.694953Z",
     "start_time": "2021-08-15T13:55:10.251951Z"
    }
   },
   "outputs": [],
   "source": [
    "bitcoin_tweets_df_min['text']=bitcoin_tweets_df_min['text'].apply(lambda x: x.encode('ascii', 'ignore').decode('ascii'))\n",
    "dogecoin_tweets_df_min_eng['text']=dogecoin_tweets_df_min_eng['text'].apply(lambda x: x.encode('ascii', 'ignore').decode('ascii'))"
   ]
  },
  {
   "cell_type": "code",
   "execution_count": 15,
   "id": "2796ee86",
   "metadata": {
    "ExecuteTime": {
     "end_time": "2021-08-15T13:58:12.543731Z",
     "start_time": "2021-08-15T13:57:57.417857Z"
    }
   },
   "outputs": [],
   "source": [
    "bitcoin_tweets_df_min['text'] = bitcoin_tweets_df_min['text'].replace(r\"http\\S+\", ' ', regex=True).replace(r'[^a-zA-Z]+', ' ', regex=True).replace(r'\\s+', ' ',regex=True).replace(r'^b\\s+','',regex=True)"
   ]
  },
  {
   "cell_type": "code",
   "execution_count": 16,
   "id": "fac28e2d",
   "metadata": {
    "ExecuteTime": {
     "end_time": "2021-08-15T13:59:20.388928Z",
     "start_time": "2021-08-15T13:58:41.879775Z"
    }
   },
   "outputs": [],
   "source": [
    "dogecoin_tweets_df_min_eng['text'] = dogecoin_tweets_df_min_eng['text'].replace(r\"http\\S+\", ' ', regex=True).replace(r'[^a-zA-Z]+', ' ', regex=True).replace(r'\\s+', ' ',regex=True).replace(r'^b\\s+','',regex=True)"
   ]
  },
  {
   "cell_type": "code",
   "execution_count": null,
   "id": "23b1720d",
   "metadata": {},
   "outputs": [],
   "source": [
    "def deEmojify(text):\n",
    "    emoji_pattern = re.compile(\"[\"\n",
    "                               u\"\\U0001F600-\\U0001F64F\"  # emoticons\n",
    "                               u\"\\U0001F300-\\U0001F5FF\"  # symbols & pictographs\n",
    "                               u\"\\U0001F680-\\U0001F6FF\"  # transport & map symbols\n",
    "                               u\"\\U0001F1E0-\\U0001F1FF\"  # flags (iOS)\n",
    "                               u\"\\U00002500-\\U00002BEF\"  # chinese char\n",
    "                               u\"\\U00002702-\\U000027B0\"\n",
    "                               u\"\\U00002702-\\U000027B0\"\n",
    "                               u\"\\U000024C2-\\U0001F251\"\n",
    "                               u\"\\U0001f926-\\U0001f937\"\n",
    "                               u\"\\U00010000-\\U0010ffff\"\n",
    "                               u\"\\u2640-\\u2642\"\n",
    "                               u\"\\u2600-\\u2B55\"\n",
    "                               u\"\\u200d\"\n",
    "                               u\"\\u23cf\"\n",
    "                               u\"\\u23e9\"\n",
    "                               u\"\\u231a\"\n",
    "                               u\"\\ufe0f\"  # dingbats\n",
    "                               u\"\\u3030\"\n",
    "                               \"]+\", flags=re.UNICODE)\n",
    "    return emoji_pattern.sub(r'', text)\n",
    "\n",
    "\n",
    "    #data = data.fillna('')\n",
    "    #stemmer = PorterStemmer()\n",
    "    #lemmatizer = WordNetLemmatizer()\n",
    "    #stopwordslist = stopwords.words('english')\n",
    "    #stopwordslist.remove('not')\n",
    "    #stopwordslist = set(stopwordslist)\n",
    "    #for i in range(data[''].count()):\n",
    "    #    data['Mail'][i] = ' '.join([\n",
    "    #        stemmer.stem(word) for word in str(data['Mail'][i]).lower().split()\n",
    "    #        if word not in stopwordslist\n",
    "    #    ])\n",
    "    #    data['Subject'][i] = ' '.join([\n",
    "    #        stemmer.stem(word) for word in str(data['Subject'][i]).lower().split()\n",
    "    #        if word not in stopwordslist\n",
    "    #    ])\n",
    "    #data\n",
    "\n",
    "def cleaning(d):\n",
    "    for i,s in enumerate(tqdm(d['text'])):\n",
    "        text = d.loc[i, 'text']\n",
    "        text = text.replace(\"#\", \"\")\n",
    "        text = re.sub('https?://(?:[-\\w.]|(?:%[\\da-fA-F]{2}))+', '', text, flags=re.MULTILINE)\n",
    "        text = re.sub('@\\\\w+ *', '', text, flags=re.MULTILINE)\n",
    "        text = deEmojify(text)\n",
    "        d.loc[i, 'text'] = text\n",
    "    return d"
   ]
  },
  {
   "cell_type": "code",
   "execution_count": 17,
   "id": "52f39b51",
   "metadata": {
    "ExecuteTime": {
     "end_time": "2021-08-15T14:01:03.964122Z",
     "start_time": "2021-08-15T14:00:43.530049Z"
    }
   },
   "outputs": [],
   "source": [
    "bitcoin_tweets_df_min.to_csv('Data/tweets/Bitcoin_tweets_min.csv', header=True, encoding='utf-8',index=False)\n",
    "dogecoin_tweets_df_min_eng.to_csv('Data/tweets/Dogecoin_tweets_min_eng.csv', header=True, encoding='utf-8',index=False)\n",
    "dogecoin_tweets_df_min_oth.to_csv('Data/tweets/Dogecoin_tweets_min_oth.csv', header=True, encoding='utf-8',index=False)"
   ]
  }
 ],
 "metadata": {
  "hide_input": false,
  "kernelspec": {
   "display_name": "Python 3 (ipykernel)",
   "language": "python",
   "name": "python3"
  },
  "language_info": {
   "codemirror_mode": {
    "name": "ipython",
    "version": 3
   },
   "file_extension": ".py",
   "mimetype": "text/x-python",
   "name": "python",
   "nbconvert_exporter": "python",
   "pygments_lexer": "ipython3",
   "version": "3.9.6"
  },
  "latex_envs": {
   "LaTeX_envs_menu_present": true,
   "autoclose": true,
   "autocomplete": true,
   "bibliofile": "",
   "cite_by": "apalike",
   "current_citInitial": 1,
   "eqLabelWithNumbers": false,
   "eqNumInitial": 1,
   "hotkeys": {
    "equation": "Ctrl-E",
    "itemize": "Ctrl-I"
   },
   "labels_anchors": false,
   "latex_user_defs": false,
   "report_style_numbering": false,
   "user_envs_cfg": false
  },
  "toc": {
   "base_numbering": 1,
   "nav_menu": {},
   "number_sections": false,
   "sideBar": true,
   "skip_h1_title": true,
   "title_cell": "Table of Contents",
   "title_sidebar": "Contents",
   "toc_cell": false,
   "toc_position": {},
   "toc_section_display": true,
   "toc_window_display": false
  },
  "varInspector": {
   "cols": {
    "lenName": 16,
    "lenType": 16,
    "lenVar": 40
   },
   "kernels_config": {
    "python": {
     "delete_cmd_postfix": "",
     "delete_cmd_prefix": "del ",
     "library": "var_list.py",
     "varRefreshCmd": "print(var_dic_list())"
    },
    "r": {
     "delete_cmd_postfix": ") ",
     "delete_cmd_prefix": "rm(",
     "library": "var_list.r",
     "varRefreshCmd": "cat(var_dic_list()) "
    }
   },
   "types_to_exclude": [
    "module",
    "function",
    "builtin_function_or_method",
    "instance",
    "_Feature"
   ],
   "window_display": false
  }
 },
 "nbformat": 4,
 "nbformat_minor": 5
}
